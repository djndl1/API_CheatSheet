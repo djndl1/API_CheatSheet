{
 "cells": [
  {
   "cell_type": "code",
   "execution_count": 1,
   "metadata": {},
   "outputs": [],
   "source": [
    "import torch\n",
    "import numpy as np\n",
    "import matplotlib.pyplot as plt"
   ]
  },
  {
   "cell_type": "markdown",
   "metadata": {},
   "source": [
    "# Using numpy MLP"
   ],
   "execution_count": null,
   "outputs": []
  },
  {
   "cell_type": "code",
   "execution_count": null,
   "metadata": {},
   "outputs": [],
   "source": [
    "N, D_in, H, D_out = 64, 1000, 100, 10"
   ]
  },
  {
   "cell_type": "code",
   "execution_count": null,
   "metadata": {},
   "outputs": [],
   "source": [
    "x = np.random.randn(N, D_in)\n",
    "y = np.random.randn(N, D_out)"
   ]
  },
  {
   "cell_type": "code",
   "execution_count": null,
   "metadata": {},
   "outputs": [],
   "source": [
    "w1 = np.random.randn(D_in, H)\n",
    "w2 = np.random.randn(H, D_out)"
   ]
  },
  {
   "cell_type": "code",
   "execution_count": null,
   "metadata": {},
   "outputs": [],
   "source": [
    "learning_rate = 1e-6"
   ]
  },
  {
   "cell_type": "code",
   "execution_count": null,
   "metadata": {},
   "outputs": [],
   "source": [
    "for t in range(500):\n",
    "    h = x.dot(w1)\n",
    "    h_relu = np.maximum(0, h)\n",
    "    y_pred = h_relu.dot(w2)\n",
    "    \n",
    "    loss = np.square(y_pred-y).sum()\n",
    "    if t % 25 == 0:\n",
    "        print(t, loss)\n",
    "    \n",
    "    grad_y_pred = 2.0 * (y_pred - y)\n",
    "    grad_w2 = h_relu.T.dot(grad_y_pred)\n",
    "    grad_h_relu = grad_y_pred.dot(w2.T)\n",
    "    grad_h = np.where(grad_h_relu > 0, grad_h_relu, 0)\n",
    "    grad_w1 = x.T.dot(grad_h)\n",
    "    \n",
    "    w1 -= learning_rate * grad_w1\n",
    "    w2 -= learning_rate * grad_w2"
   ]
  },
  {
   "cell_type": "code",
   "execution_count": null,
   "metadata": {},
   "outputs": [],
   "source": [
    "h = x.dot(w1)\n",
    "h_relu = np.maximum(0, h)\n",
    "y_pred = h_relu.dot(w2)\n",
    "np.mean(y_pred - y < 1e-2)"
   ]
  },
  {
   "cell_type": "markdown",
   "metadata": {},
   "source": [
    "# Torch version"
   ],
   "execution_count": null,
   "outputs": []
  },
  {
   "cell_type": "code",
   "execution_count": 25,
   "metadata": {},
   "outputs": [],
   "source": [
    "N, D_in, H, D_out = 64, 1000, 100, 10"
   ]
  },
  {
   "cell_type": "code",
   "execution_count": 26,
   "metadata": {},
   "outputs": [],
   "source": [
    "gpu_device = torch.device('cuda')"
   ]
  },
  {
   "cell_type": "code",
   "execution_count": 27,
   "metadata": {},
   "outputs": [],
   "source": [
    "x = torch.randn(N, D_in, device=gpu_device, dtype=torch.float)\n",
    "y = torch.randn(N, D_out, device=gpu_device, dtype=torch.float)"
   ]
  },
  {
   "cell_type": "code",
   "execution_count": 28,
   "metadata": {},
   "outputs": [],
   "source": [
    "w1 = torch.randn(D_in, H, device=gpu_device, dtype=torch.float, requires_grad=True)\n",
    "w2 = torch.randn(H, D_out, device=gpu_device, dtype=torch.float, requires_grad=True)"
   ]
  },
  {
   "cell_type": "code",
   "execution_count": 15,
   "metadata": {},
   "outputs": [
    {
     "output_type": "stream",
     "name": "stdout",
     "text": "0 2.504310131072998\n25 1.6382091045379639\n50 1.079041600227356\n75 0.7139986753463745\n100 0.47440844774246216\n125 0.3161752223968506\n150 0.211361363530159\n175 0.14173568785190582\n200 0.09526404738426208\n225 0.06417029350996017\n250 0.04329650476574898\n275 0.029283910989761353\n300 0.019856596365571022\n325 0.013500294648110867\n350 0.009207150898873806\n375 0.0063055590726435184\n400 0.00435779569670558\n425 0.0030372655019164085\n450 0.002139214426279068\n475 0.0015211035497486591\n"
    }
   ],
   "source": [
    "learning_rate = 1e-6\n",
    "for t in range(500):\n",
    "    h = x.mm(w1)\n",
    "    h_relu = torch.clamp(h, min=0.0)\n",
    "    y_pred = h_relu.mm(w2)\n",
    "    \n",
    "    loss = (y_pred - y).pow(2).sum().item()\n",
    "    if t % 25 == 0:\n",
    "        print(t, loss)\n",
    "    \n",
    "    grad_y_pred = 2.0 * (y_pred - y)\n",
    "    grad_w2 = h_relu.t().mm(grad_y_pred)\n",
    "    grad_h_relu = grad_y_pred.mm(w2.t())\n",
    "    grad_h = torch.where(grad_h_relu > 0, grad_h_relu, torch.tensor(0.0, device=gpu_device))\n",
    "    grad_w1 = x.t().mm(grad_h)\n",
    "    \n",
    "    w1 -= learning_rate * grad_w1\n",
    "    w2 -= learning_rate * grad_w2"
   ]
  },
  {
   "cell_type": "code",
   "execution_count": 30,
   "metadata": {},
   "outputs": [
    {
     "output_type": "execute_result",
     "data": {
      "text/plain": "tensor(1., device='cuda:0')"
     },
     "metadata": {},
     "execution_count": 30
    }
   ],
   "source": [
    "h = x.mm(w1)\n",
    "h_relu = torch.clamp(h, min=0.0)\n",
    "y_pred = h_relu.mm(w2)\n",
    "torch.mean(y_pred - y < 1e-2, dtype=torch.float)"
   ]
  },
  {
   "cell_type": "code",
   "execution_count": 29,
   "metadata": {},
   "outputs": [
    {
     "output_type": "stream",
     "name": "stdout",
     "text": "0 tensor(35170824., device='cuda:0', grad_fn=<SumBackward0>)\n25 tensor(154213.0156, device='cuda:0', grad_fn=<SumBackward0>)\n50 tensor(18509.9883, device='cuda:0', grad_fn=<SumBackward0>)\n75 tensor(3558.3235, device='cuda:0', grad_fn=<SumBackward0>)\n100 tensor(849.7177, device='cuda:0', grad_fn=<SumBackward0>)\n125 tensor(229.7461, device='cuda:0', grad_fn=<SumBackward0>)\n150 tensor(67.4826, device='cuda:0', grad_fn=<SumBackward0>)\n175 tensor(21.1058, device='cuda:0', grad_fn=<SumBackward0>)\n200 tensor(6.9363, device='cuda:0', grad_fn=<SumBackward0>)\n225 tensor(2.3706, device='cuda:0', grad_fn=<SumBackward0>)\n250 tensor(0.8367, device='cuda:0', grad_fn=<SumBackward0>)\n275 tensor(0.3029, device='cuda:0', grad_fn=<SumBackward0>)\n300 tensor(0.1118, device='cuda:0', grad_fn=<SumBackward0>)\n325 tensor(0.0420, device='cuda:0', grad_fn=<SumBackward0>)\n350 tensor(0.0160, device='cuda:0', grad_fn=<SumBackward0>)\n375 tensor(0.0063, device='cuda:0', grad_fn=<SumBackward0>)\n400 tensor(0.0026, device='cuda:0', grad_fn=<SumBackward0>)\n425 tensor(0.0012, device='cuda:0', grad_fn=<SumBackward0>)\n450 tensor(0.0006, device='cuda:0', grad_fn=<SumBackward0>)\n475 tensor(0.0003, device='cuda:0', grad_fn=<SumBackward0>)\n"
    }
   ],
   "source": [
    "for t in range(500):\n",
    "    y_pred = x.mm(w1).clamp(min=0.0).mm(w2)\n",
    "    \n",
    "    loss = (y_pred - y).pow(2).sum()\n",
    "    if t % 25 == 0:\n",
    "        print(t, loss)\n",
    "    \n",
    "    loss.backward()\n",
    "    with torch.no_grad():\n",
    "        w1 -= learning_rate * w1.grad\n",
    "        w2 -= learning_rate * w2.grad\n",
    "\n",
    "        w1.grad.zero_()\n",
    "        w2.grad.zero_()"
   ]
  },
  {
   "cell_type": "code",
   "execution_count": null,
   "metadata": {},
   "outputs": [],
   "source": []
  }
 ],
 "metadata": {
  "kernelspec": {
   "display_name": "Python 3",
   "language": "python",
   "name": "python3"
  },
  "language_info": {
   "codemirror_mode": {
    "name": "ipython",
    "version": 3
   },
   "file_extension": ".py",
   "mimetype": "text/x-python",
   "name": "python",
   "nbconvert_exporter": "python",
   "pygments_lexer": "ipython3",
   "version": "3.7.6-final"
  }
 },
 "nbformat": 4,
 "nbformat_minor": 4
}