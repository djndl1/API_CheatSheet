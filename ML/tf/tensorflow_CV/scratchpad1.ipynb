{
 "cells": [
  {
   "cell_type": "code",
   "execution_count": 1,
   "metadata": {},
   "outputs": [
    {
     "name": "stderr",
     "output_type": "stream",
     "text": [
      "Using TensorFlow backend.\n"
     ]
    }
   ],
   "source": [
    "import tensorflow as tf\n",
    "import keras\n",
    "import matplotlib.pyplot as plt\n",
    "import numpy as np"
   ]
  },
  {
   "cell_type": "markdown",
   "metadata": {},
   "source": [
    "# AND Gate"
   ]
  },
  {
   "cell_type": "code",
   "execution_count": 33,
   "metadata": {},
   "outputs": [],
   "source": [
    "T, F = 1.0, -1.0\n",
    "bias = 1.0"
   ]
  },
  {
   "cell_type": "code",
   "execution_count": 34,
   "metadata": {},
   "outputs": [],
   "source": [
    "training_input = [\n",
    "    [T, T, bias],\n",
    "    [T, F, bias],\n",
    "    [F, T, bias],\n",
    "    [F, F, bias],\n",
    "]\n",
    "\n",
    "training_output = [\n",
    "    [T],\n",
    "    [F],\n",
    "    [F],\n",
    "    [F]\n",
    "]"
   ]
  },
  {
   "cell_type": "code",
   "execution_count": 35,
   "metadata": {},
   "outputs": [],
   "source": [
    "w = tf.Variable(tf.random_normal([3, 1], dtype=tf.float32))"
   ]
  },
  {
   "cell_type": "code",
   "execution_count": 36,
   "metadata": {},
   "outputs": [],
   "source": [
    "#    0_____\n",
    "#_____|\n",
    "def step(x):\n",
    "    is_greater = tf.greater(x, 0)\n",
    "    as_float = tf.to_float(is_greater)\n",
    "    doubled = tf.multiply(as_float, 2)\n",
    "    return tf.subtract(doubled, 1)"
   ]
  },
  {
   "cell_type": "code",
   "execution_count": 37,
   "metadata": {},
   "outputs": [],
   "source": [
    "output = step(tf.matmul(training_input, w))\n",
    "error = tf.subtract(training_output, output)\n",
    "mse = tf.reduce_mean(tf.square(error))"
   ]
  },
  {
   "cell_type": "code",
   "execution_count": 38,
   "metadata": {},
   "outputs": [],
   "source": [
    "delta = tf.matmul(training_input, error, transpose_a=True)\n",
    "train = tf.assign(w, tf.add(w, delta))"
   ]
  },
  {
   "cell_type": "code",
   "execution_count": 39,
   "metadata": {},
   "outputs": [],
   "source": [
    "sess = tf.Session()\n",
    "sess.run(tf.global_variables_initializer())"
   ]
  },
  {
   "cell_type": "code",
   "execution_count": 40,
   "metadata": {},
   "outputs": [],
   "source": [
    "err, target = 1, 0\n",
    "epoch, max_epochs = 0, 10"
   ]
  },
  {
   "cell_type": "code",
   "execution_count": 41,
   "metadata": {},
   "outputs": [
    {
     "name": "stdout",
     "output_type": "stream",
     "text": [
      "[array([[-1.1666737],\n",
      "       [ 2.3665142],\n",
      "       [-1.8197935]], dtype=float32)]\n",
      "[array([[ 2.8333263],\n",
      "       [ 2.3665142],\n",
      "       [-1.8197935]], dtype=float32)]\n",
      "[array([[ 2.8333263],\n",
      "       [ 2.3665142],\n",
      "       [-1.8197935]], dtype=float32)]\n"
     ]
    }
   ],
   "source": [
    "while err > target and epoch < max_epochs:\n",
    "    epoch += 1\n",
    "    err, _ = sess.run([mse, train])\n",
    "    print(sess.run([w]))"
   ]
  },
  {
   "cell_type": "code",
   "execution_count": 42,
   "metadata": {},
   "outputs": [
    {
     "name": "stdout",
     "output_type": "stream",
     "text": [
      "epoch 3 mse:  0.0\n"
     ]
    }
   ],
   "source": [
    "print('epoch', epoch, 'mse: ', err)"
   ]
  },
  {
   "cell_type": "markdown",
   "metadata": {},
   "source": [
    "# CNN"
   ]
  },
  {
   "cell_type": "code",
   "execution_count": 2,
   "metadata": {},
   "outputs": [],
   "source": [
    "from tensorflow.examples.tutorials.mnist import input_data"
   ]
  },
  {
   "cell_type": "code",
   "execution_count": 2,
   "metadata": {},
   "outputs": [],
   "source": [
    "def create_new_conv_layer(input_data, num_input_channels,\n",
    "                          num_filters, filter_shape, pool_shape,\n",
    "                         name):\n",
    "    conv_filt_shape = [filter_shape[0], filter_shape[1], \n",
    "                      num_input_channels, num_filters]\n",
    "    weights = tf.Variable(tf.truncated_normal(conv_filt_shape,stddev=0.03),\n",
    "                         name=name + '_W')\n",
    "    bias = tf.Variable(tf.truncated_normal([num_filters]), name=name+'_b')\n",
    "    out_layer = tf.nn.conv2d(input_data, weights, \n",
    "                            [1, 1, 1, 1], padding='SAME')\n",
    "    out_layer += bias\n",
    "    out_layer = tf.nn.relu(out_layer)\n",
    "    \n",
    "    ksize = [1, pool_shape[0], pool_shape[1], 1]\n",
    "    strides = [1, 2, 2, 1]\n",
    "    out_layer = tf.nn.max_pool(out_layer, ksize=ksize,\n",
    "                              strides=strides, padding='SAME')\n",
    "    \n",
    "    return out_layer"
   ]
  },
  {
   "cell_type": "code",
   "execution_count": 3,
   "metadata": {},
   "outputs": [],
   "source": [
    "x = tf.placeholder(tf.float32, [None, 784])\n",
    "x_shaped = tf.reshape(x, [-1, 28, 28, 1])\n",
    "y = tf.placeholder(tf.float32, [None, 10])"
   ]
  },
  {
   "cell_type": "code",
   "execution_count": 4,
   "metadata": {},
   "outputs": [],
   "source": [
    "layer1 = create_new_conv_layer(x_shaped, 1, 32, \n",
    "                               [5, 5], [2, 2], name='layer1')\n",
    "layer2 = create_new_conv_layer(layer1, 32, 64, \n",
    "                               [5, 5], [2, 2], name='layer2')"
   ]
  },
  {
   "cell_type": "code",
   "execution_count": 5,
   "metadata": {},
   "outputs": [],
   "source": [
    "flattend = tf.reshape(layer2, [-1, 7 * 7 * 64])\n",
    "wd1 = tf.Variable(tf.truncated_normal([7*7*64, 1000], stddev=0.03),\n",
    "                 name='wd1')\n",
    "bd1 = tf.Variable(tf.truncated_normal([1000], stddev=0.01), name='bd1')\n",
    "dense_layer1 = tf.matmul(flattend, wd1) + bd1\n",
    "dense_layer1 = tf.nn.relu(dense_layer1)"
   ]
  },
  {
   "cell_type": "code",
   "execution_count": 6,
   "metadata": {},
   "outputs": [],
   "source": [
    "wd2 = tf.Variable(tf.truncated_normal([1000, 10], stddev=0.03),\n",
    "                 name='wd2')\n",
    "bd2 = tf.Variable(tf.truncated_normal([10], stddev=0.01),\n",
    "                 name='bd2')\n",
    "dense_layer2 = tf.matmul(dense_layer1, wd2) + bd2\n",
    "y_ = tf.nn.softmax(dense_layer2)"
   ]
  },
  {
   "cell_type": "code",
   "execution_count": 7,
   "metadata": {},
   "outputs": [
    {
     "name": "stdout",
     "output_type": "stream",
     "text": [
      "WARNING:tensorflow:From <ipython-input-7-fc14dee32a47>:3: softmax_cross_entropy_with_logits (from tensorflow.python.ops.nn_ops) is deprecated and will be removed in a future version.\n",
      "Instructions for updating:\n",
      "\n",
      "Future major versions of TensorFlow will allow gradients to flow\n",
      "into the labels input on backprop by default.\n",
      "\n",
      "See @{tf.nn.softmax_cross_entropy_with_logits_v2}.\n",
      "\n"
     ]
    }
   ],
   "source": [
    "cross_entropy = tf.reduce_mean(\n",
    "    tf.nn.softmax_cross_entropy_with_logits(logits=dense_layer2,\n",
    "                                           labels=y))\n",
    "optimizer = tf.train.AdamOptimizer(learning_rate=0.0001).minimize(cross_entropy)\n",
    "\n",
    "correct_prediction = tf.equal(tf.argmax(y, 1), tf.argmax(y_, 1))\n",
    "accuracy = tf.reduce_mean(tf.cast(correct_prediction, tf.float32))"
   ]
  },
  {
   "cell_type": "code",
   "execution_count": 8,
   "metadata": {},
   "outputs": [],
   "source": [
    "init_op = tf.global_variables_initializer()"
   ]
  },
  {
   "cell_type": "code",
   "execution_count": 9,
   "metadata": {},
   "outputs": [],
   "source": [
    "(x_train, y_train), (x_test, y_test) = keras.datasets.mnist.load_data()\n",
    "y_train_one_hot = keras.utils.to_categorical(y_train)\n",
    "y_test_one_hot = keras.utils.to_categorical(y_test)\n",
    "epochs = 10\n",
    "batch_size = 50"
   ]
  },
  {
   "cell_type": "code",
   "execution_count": 37,
   "metadata": {},
   "outputs": [
    {
     "name": "stdout",
     "output_type": "stream",
     "text": [
      "avg_cost = 0.06868060111999512 accuracy = {0.18000001}\n",
      "avg_cost = 0.006436520218849182 accuracy = {0.80000001}\n",
      "avg_cost = 0.003877345323562622 accuracy = {0.88000000}\n",
      "avg_cost = 0.001536543220281601 accuracy = {0.98000002}\n",
      "avg_cost = 0.001218758299946785 accuracy = {0.94000000}\n",
      "avg_cost = 0.0012671712040901184 accuracy = {0.95999998}\n",
      "avg_cost = 0.0007749784737825394 accuracy = {0.95999998}\n",
      "avg_cost = 0.0026937612891197206 accuracy = {0.95999998}\n",
      "avg_cost = 0.0014674462378025054 accuracy = {0.94000000}\n",
      "avg_cost = 0.0009921641647815704 accuracy = {0.92000002}\n",
      "avg_cost = 0.001780131459236145 accuracy = {0.94000000}\n",
      "avg_cost = 0.0016095146536827087 accuracy = {0.94000000}\n",
      "avg_cost = 0.0006643108278512954 accuracy = {0.95999998}\n",
      "avg_cost = 0.0007484102994203567 accuracy = {0.95999998}\n",
      "avg_cost = 0.000568915456533432 accuracy = {0.95999998}\n",
      "avg_cost = 0.0006020108610391617 accuracy = {0.95999998}\n",
      "avg_cost = 0.00045878279954195025 accuracy = {0.95999998}\n",
      "avg_cost = 0.0016750015318393707 accuracy = {1.00000000}\n",
      "avg_cost = 0.0002736972086131573 accuracy = {0.95999998}\n",
      "avg_cost = 0.00025879159569740294 accuracy = {0.95999998}\n",
      "avg_cost = 0.0005024392902851104 accuracy = {0.94000000}\n",
      "avg_cost = 0.0008170696347951889 accuracy = {0.95999998}\n",
      "avg_cost = 0.0003610460087656975 accuracy = {0.98000002}\n",
      "avg_cost = 0.0004175075516104698 accuracy = {0.98000002}\n",
      "avg_cost = 6.426237057894469e-05 accuracy = {0.98000002}\n",
      "avg_cost = 0.00015725785866379738 accuracy = {1.00000000}\n",
      "avg_cost = 6.303747184574604e-05 accuracy = {0.95999998}\n",
      "avg_cost = 0.0005580653995275498 accuracy = {1.00000000}\n",
      "avg_cost = 6.48750364780426e-05 accuracy = {0.95999998}\n",
      "avg_cost = 6.566181778907776e-05 accuracy = {0.95999998}\n",
      "avg_cost = 6.272828206419944e-05 accuracy = {0.98000002}\n",
      "avg_cost = 0.00016370460391044618 accuracy = {0.98000002}\n",
      "avg_cost = 0.0005067010968923569 accuracy = {1.00000000}\n",
      "avg_cost = 8.148472756147384e-05 accuracy = {0.95999998}\n",
      "avg_cost = 5.816449411213398e-05 accuracy = {0.95999998}\n",
      "avg_cost = 0.0001282197516411543 accuracy = {1.00000000}\n",
      "avg_cost = 2.301274798810482e-05 accuracy = {0.95999998}\n",
      "avg_cost = 0.0002139071933925152 accuracy = {1.00000000}\n",
      "avg_cost = 7.11977668106556e-05 accuracy = {0.98000002}\n",
      "avg_cost = 0.0001560258399695158 accuracy = {1.00000000}\n",
      "avg_cost = 2.9968905728310347e-05 accuracy = {1.00000000}\n",
      "avg_cost = 0.0004740481451153755 accuracy = {0.95999998}\n",
      "avg_cost = 9.479100815951825e-05 accuracy = {1.00000000}\n",
      "avg_cost = 0.00013324510306119918 accuracy = {0.95999998}\n",
      "avg_cost = 8.508558385074138e-05 accuracy = {0.98000002}\n",
      "avg_cost = 0.0001886250264942646 accuracy = {0.98000002}\n",
      "avg_cost = 1.0707362089306115e-05 accuracy = {1.00000000}\n",
      "avg_cost = 0.0001573736220598221 accuracy = {1.00000000}\n",
      "avg_cost = 2.281007822602987e-05 accuracy = {1.00000000}\n",
      "avg_cost = 4.051113035529852e-05 accuracy = {1.00000000}\n",
      "avg_cost = 0.00013311159797012805 accuracy = {1.00000000}\n",
      "avg_cost = 2.2891960106790066e-05 accuracy = {0.98000002}\n",
      "avg_cost = 5.568807013332844e-05 accuracy = {0.98000002}\n",
      "avg_cost = 4.2086993344128134e-05 accuracy = {1.00000000}\n",
      "avg_cost = 0.0001132675725966692 accuracy = {0.98000002}\n",
      "avg_cost = 5.418302025645971e-05 accuracy = {1.00000000}\n",
      "avg_cost = 3.1978208571672436e-05 accuracy = {1.00000000}\n",
      "avg_cost = 2.714707050472498e-05 accuracy = {1.00000000}\n",
      "avg_cost = 1.517654163762927e-05 accuracy = {1.00000000}\n",
      "avg_cost = 8.485594764351845e-05 accuracy = {1.00000000}\n",
      "avg_cost = 4.787056241184473e-05 accuracy = {1.00000000}\n",
      "avg_cost = 7.244712207466364e-05 accuracy = {1.00000000}\n",
      "avg_cost = 3.436430124565959e-05 accuracy = {0.98000002}\n",
      "avg_cost = 9.886096231639385e-06 accuracy = {1.00000000}\n",
      "avg_cost = 5.287745501846075e-05 accuracy = {0.95999998}\n",
      "avg_cost = 3.820354584604502e-05 accuracy = {1.00000000}\n",
      "avg_cost = 5.157160339877009e-06 accuracy = {1.00000000}\n",
      "avg_cost = 0.00019362995401024817 accuracy = {1.00000000}\n",
      "avg_cost = 1.3776571722701193e-05 accuracy = {1.00000000}\n",
      "avg_cost = 1.307622587773949e-06 accuracy = {1.00000000}\n",
      "avg_cost = 0.00011788947507739067 accuracy = {1.00000000}\n",
      "avg_cost = 0.00020121293142437934 accuracy = {1.00000000}\n",
      "avg_cost = 2.170034684240818e-05 accuracy = {1.00000000}\n",
      "avg_cost = 2.278836473124102e-06 accuracy = {1.00000000}\n",
      "avg_cost = 3.156062681227922e-05 accuracy = {0.95999998}\n",
      "avg_cost = 1.8640422495082022e-05 accuracy = {1.00000000}\n",
      "avg_cost = 3.474898403510451e-05 accuracy = {1.00000000}\n",
      "avg_cost = 3.176603699102998e-05 accuracy = {1.00000000}\n",
      "avg_cost = 6.523215211927891e-05 accuracy = {1.00000000}\n",
      "avg_cost = 1.0145618580281734e-05 accuracy = {1.00000000}\n",
      "avg_cost = 5.8538711164146665e-06 accuracy = {1.00000000}\n",
      "avg_cost = 2.475495683029294e-05 accuracy = {1.00000000}\n",
      "avg_cost = 8.64641391672194e-06 accuracy = {1.00000000}\n",
      "avg_cost = 2.0850445434916766e-06 accuracy = {1.00000000}\n",
      "avg_cost = 8.671499672345818e-06 accuracy = {1.00000000}\n",
      "avg_cost = 7.478431332856417e-05 accuracy = {1.00000000}\n",
      "avg_cost = 3.4434330882504584e-06 accuracy = {1.00000000}\n",
      "avg_cost = 3.533167531713844e-05 accuracy = {1.00000000}\n",
      "avg_cost = 2.022721600951627e-06 accuracy = {0.98000002}\n",
      "avg_cost = 1.7475504137109965e-06 accuracy = {1.00000000}\n",
      "avg_cost = 9.569115936756134e-06 accuracy = {1.00000000}\n",
      "avg_cost = 6.829063640907407e-06 accuracy = {1.00000000}\n",
      "avg_cost = 8.188913925550878e-06 accuracy = {1.00000000}\n",
      "avg_cost = 1.5862884174566716e-06 accuracy = {1.00000000}\n",
      "avg_cost = 1.722934190183878e-05 accuracy = {1.00000000}\n",
      "avg_cost = 3.429474774748087e-05 accuracy = {1.00000000}\n",
      "avg_cost = 9.789762407308444e-07 accuracy = {0.98000002}\n",
      "avg_cost = 1.3053735019639134e-05 accuracy = {1.00000000}\n",
      "avg_cost = 7.28124359739013e-07 accuracy = {1.00000000}\n",
      "avg_cost = 5.40777800779324e-07 accuracy = {1.00000000}\n"
     ]
    }
   ],
   "source": [
    "sess = tf.Session()\n",
    "sess.run(init_op)\n",
    "total_batch = int(len(x_test) / batch_size)\n",
    "    \n",
    "avg_cost = 0\n",
    "for j in range(epochs):\n",
    "    for i in range(total_batch):\n",
    "        batch_x = x_train[i*batch_size:(i+1)*batch_size]\n",
    "        batch_x = batch_x.reshape((batch_x.shape[0], np.prod(batch_x.shape[1:])))\n",
    "        batch_y = y_train_one_hot[i*batch_size:(i+1)*batch_size]\n",
    "        _, c = sess.run([optimizer, cross_entropy],\n",
    "                        feed_dict={x: batch_x, y: batch_y})\n",
    "        avg_cost = c / total_batch\n",
    "        x_test_reshaped = x_test.reshape((x_test.shape[0], np.prod(x_test.shape[1:])))\n",
    "        test_acc = sess.run(accuracy,\n",
    "                            feed_dict={x: x_test_reshaped[0:batch_size],\n",
    "                                         y:y_test_one_hot[0:batch_size]})\n",
    "        if i % 20 == 0:\n",
    "            print('avg_cost =', avg_cost, 'accuracy = %.8f' % test_acc)"
   ]
  },
  {
   "cell_type": "code",
   "execution_count": 58,
   "metadata": {},
   "outputs": [],
   "source": [
    "err = 0\n",
    "for i in range(x_test_reshaped.shape[0]):\n",
    "    x_single = x_test_reshaped[i]\n",
    "    res = sess.run(y_, feed_dict={x: x_single[np.newaxis, :]})\n",
    "    pred_y = res.argmax(-1)\n",
    "    err += np.abs(pred_y - y_test[i])"
   ]
  },
  {
   "cell_type": "code",
   "execution_count": 63,
   "metadata": {},
   "outputs": [
    {
     "data": {
      "text/plain": [
       "'./cnn2conv'"
      ]
     },
     "execution_count": 63,
     "metadata": {},
     "output_type": "execute_result"
    }
   ],
   "source": [
    "saver = tf.train.Saver()\n",
    "saver.save(sess, './cnn2conv')"
   ]
  },
  {
   "cell_type": "code",
   "execution_count": 65,
   "metadata": {},
   "outputs": [],
   "source": [
    "sess.close()"
   ]
  },
  {
   "cell_type": "code",
   "execution_count": 66,
   "metadata": {},
   "outputs": [],
   "source": [
    "saver = tf.train.import_meta_graph('./cnn2conv.meta')"
   ]
  },
  {
   "cell_type": "code",
   "execution_count": 69,
   "metadata": {},
   "outputs": [
    {
     "name": "stdout",
     "output_type": "stream",
     "text": [
      "INFO:tensorflow:Restoring parameters from ./cnn2conv\n"
     ]
    }
   ],
   "source": [
    "tfs = tf.InteractiveSession()\n",
    "saver.restore(tfs, tf.train.latest_checkpoint('./'))"
   ]
  },
  {
   "cell_type": "code",
   "execution_count": 70,
   "metadata": {},
   "outputs": [
    {
     "name": "stdout",
     "output_type": "stream",
     "text": [
      "[7 2 1 0 4 1 4 9 5 9 0 6 9 0 1 5 9 7 3 4 9 6 6 5 4 0 7 4 0 1 3 1 3 4 7 2 7\n",
      " 1 2 1 1 7 4 2 3 5 1 2 4 4 6 3 5 5 6 0 4 1 9 5 7 8 5 3 7 4 6 4 3 0 7 0 2 9\n",
      " 1 7 3 2 9 7 7 6 2 7 8 4 7 3 6 1 3 6 9 3 1 4 1 7 6 9 6 0 5 4 9 9 2 1 9 4 8\n",
      " 7 3 9 7 4 4 4 9 2 5 4 7 6 7 9 0 5 8 5 6 6 5 7 8 1 0 1 6 4 6 7 3 1 7 1 8 2\n",
      " 0 2 9 8 5 5 1 5 6 0 3 4 4 6 5 4 6 5 4 5 1 4 4 7 2 3 2 7 1 8 1 8 1 8 5 0 8\n",
      " 9 2 5 0 1 1 1 0 9 0 3 1 6 4 2]\n"
     ]
    }
   ],
   "source": [
    "res = tfs.run(y_, feed_dict={x: x_test_reshaped[:200]})\n",
    "print(res.argmax(-1))"
   ]
  },
  {
   "cell_type": "code",
   "execution_count": null,
   "metadata": {},
   "outputs": [],
   "source": []
  }
 ],
 "metadata": {
  "kernelspec": {
   "display_name": "Python 3",
   "language": "python",
   "name": "python3"
  },
  "language_info": {
   "codemirror_mode": {
    "name": "ipython",
    "version": 3
   },
   "file_extension": ".py",
   "mimetype": "text/x-python",
   "name": "python",
   "nbconvert_exporter": "python",
   "pygments_lexer": "ipython3",
   "version": "3.6.10"
  }
 },
 "nbformat": 4,
 "nbformat_minor": 4
}
