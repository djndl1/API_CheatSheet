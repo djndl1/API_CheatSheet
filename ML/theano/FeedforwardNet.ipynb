{
 "cells": [
  {
   "cell_type": "code",
   "execution_count": 1,
   "metadata": {},
   "outputs": [
    {
     "name": "stderr",
     "output_type": "stream",
     "text": [
      "Using Theano backend.\n",
      "/usr/lib/python3/dist-packages/theano/gpuarray/dnn.py:184: UserWarning: Your cuDNN version is more recent than Theano. If you encounter problems, try updating Theano or downgrading cuDNN to a version >= v5 and <= v7.\n",
      "  warnings.warn(\"Your cuDNN version is more recent than \"\n",
      "Mapped name None to device opencl0:0: GeForce 940MX \n"
     ]
    }
   ],
   "source": [
    "import keras\n",
    "import theano as th\n",
    "import theano\n",
    "import theano.tensor as T\n",
    "from keras import backend as K\n",
    "import numpy as np\n",
    "import scipy as sp\n",
    "import matplotlib.pyplot as plt"
   ]
  },
  {
   "cell_type": "code",
   "execution_count": 2,
   "metadata": {},
   "outputs": [],
   "source": [
    "(x_train, y_train), (x_test, y_test) = keras.datasets.mnist.load_data()"
   ]
  },
  {
   "cell_type": "code",
   "execution_count": 3,
   "metadata": {},
   "outputs": [
    {
     "data": {
      "image/png": "[encoded data removed]",
      "text/plain": [
       "<Figure size 360x1440 with 15 Axes>"
      ]
     },
     "metadata": {
      "needs_background": "light"
     },
     "output_type": "display_data"
    }
   ],
   "source": [
    "num_pics = 15\n",
    "plt.figure(figsize=(5, 20))\n",
    "for i in range(1, num_pics+1):\n",
    "        plt.subplot(1, num_pics, i)\n",
    "        plt.imshow(x_train[i], 'gray')\n",
    "        plt.axis('off')\n",
    "        plt.title(str(y_train[i]))\n",
    "\n",
    "plt.show()"
   ]
  },
  {
   "cell_type": "code",
   "execution_count": 4,
   "metadata": {},
   "outputs": [],
   "source": [
    "x_train = x_train.reshape(x_train.shape[0], np.prod(x_train.shape[1:]))\n",
    "x_test = x_test.reshape(x_test.shape[0], np.prod(x_test.shape[1:]))"
   ]
  },
  {
   "cell_type": "code",
   "execution_count": 5,
   "metadata": {},
   "outputs": [],
   "source": [
    "y_train_one_hot = keras.utils.to_categorical(y_train)\n",
    "y_test_one_hot = keras.utils.to_categorical(y_test)"
   ]
  },
  {
   "cell_type": "code",
   "execution_count": 6,
   "metadata": {},
   "outputs": [],
   "source": [
    "# To avoid too many transfer to the GPU, \n",
    "# place as many samples in shared variables\n",
    "train_set_x = th.shared(np.asarray(x_train, dtype=th.config.floatX))\n",
    "train_set_y = th.shared(np.asarray(y_train_one_hot, dtype='int32'))"
   ]
  },
  {
   "cell_type": "markdown",
   "metadata": {},
   "source": [
    "# Simple Softmax Linear Model"
   ]
  },
  {
   "cell_type": "code",
   "execution_count": 7,
   "metadata": {},
   "outputs": [],
   "source": [
    "num_output = y_train_one_hot.shape[1]\n",
    "num_input =  x_train.shape[1]"
   ]
  },
  {
   "cell_type": "code",
   "execution_count": 8,
   "metadata": {},
   "outputs": [],
   "source": [
    "x = T.matrix('x')\n",
    "y = T.imatrix('y')"
   ]
  },
  {
   "cell_type": "code",
   "execution_count": 9,
   "metadata": {},
   "outputs": [],
   "source": [
    "W = th.shared(value=np.random.rand(num_input, num_output),\n",
    "             name='W', borrow=True)\n",
    "b = th.shared(value=np.random.rand(num_output),\n",
    "             name='b', borrow=True)"
   ]
  },
  {
   "cell_type": "code",
   "execution_count": 10,
   "metadata": {},
   "outputs": [],
   "source": [
    "prob = T.nnet.softmax(x.dot(W) + b)"
   ]
  },
  {
   "cell_type": "code",
   "execution_count": 11,
   "metadata": {},
   "outputs": [],
   "source": [
    "label_pred = T.argmax(prob, axis=-1)"
   ]
  },
  {
   "cell_type": "code",
   "execution_count": 12,
   "metadata": {},
   "outputs": [],
   "source": [
    "xent = -T.mean(T.sum(\n",
    "                    T.log(prob)*y, axis=-1)\n",
    "              )"
   ]
  },
  {
   "cell_type": "code",
   "execution_count": 13,
   "metadata": {},
   "outputs": [],
   "source": [
    "cost = T.nnet.nnet.categorical_crossentropy(prob, y).mean()"
   ]
  },
  {
   "cell_type": "code",
   "execution_count": 14,
   "metadata": {},
   "outputs": [],
   "source": [
    "accu = T.mean(T.eq(label_pred, T.argmax(y, axis=-1)))"
   ]
  },
  {
   "cell_type": "code",
   "execution_count": 15,
   "metadata": {},
   "outputs": [],
   "source": [
    "dW, db = T.grad(cost=cost, wrt=[W, b])"
   ]
  },
  {
   "cell_type": "code",
   "execution_count": 16,
   "metadata": {},
   "outputs": [],
   "source": [
    "index = T.lscalar()\n",
    "batch_size = 120\n",
    "learning_rate = 0.05"
   ]
  },
  {
   "cell_type": "code",
   "execution_count": 17,
   "metadata": {},
   "outputs": [],
   "source": [
    "single_layer_model = th.function(inputs=[index],\n",
    "                                outputs=[xent, accu, cost],\n",
    "                                updates=[(W, W - learning_rate*dW),\n",
    "                                         (b, b - learning_rate*db)],\n",
    "                                givens={\n",
    "                                    x: train_set_x[index*batch_size:(index+1)*batch_size],\n",
    "                                    y: train_set_y[index*batch_size:(index+1)*batch_size]\n",
    "                                })"
   ]
  },
  {
   "cell_type": "code",
   "execution_count": 18,
   "metadata": {},
   "outputs": [
    {
     "name": "stdout",
     "output_type": "stream",
     "text": [
      "Epoch 0, minibatch 499/500, training accu 0.9083%, training loss 617.2533233059208, current cost 617.2533233059208\n",
      "Epoch 20, minibatch 499/500, training accu 0.9250%, training loss 289.3467057665601, current cost 289.3467057665601\n",
      "Epoch 40, minibatch 499/500, training accu 0.8750%, training loss 404.82826134786774, current cost 404.82826134786774\n",
      "Epoch 60, minibatch 499/500, training accu 0.9167%, training loss 261.7629495010209, current cost 261.76294950102096\n",
      "Epoch 80, minibatch 499/500, training accu 0.9333%, training loss 231.20741135770052, current cost 231.20741135770052\n",
      "Epoch 100, minibatch 499/500, training accu 0.9667%, training loss 208.427211370989, current cost 208.42721137098903\n",
      "Epoch 120, minibatch 499/500, training accu 0.9500%, training loss 164.58107334961625, current cost 164.58107334961622\n",
      "Epoch 140, minibatch 499/500, training accu 0.9083%, training loss 289.8465010152733, current cost 289.8465010152733\n",
      "Epoch 160, minibatch 499/500, training accu 0.9417%, training loss 148.5220497000242, current cost 148.5220497000242\n",
      "Epoch 180, minibatch 499/500, training accu 0.8917%, training loss 484.9654547605094, current cost 484.96545476050943\n",
      "Epoch 200, minibatch 499/500, training accu 0.9667%, training loss 175.88518347456616, current cost 175.88518347456613\n",
      "Epoch 220, minibatch 499/500, training accu 0.9500%, training loss 131.20854363205052, current cost 131.20854363205052\n",
      "Epoch 240, minibatch 499/500, training accu 0.9500%, training loss 140.87834699478378, current cost 140.87834699478378\n",
      "Epoch 260, minibatch 499/500, training accu 0.9500%, training loss 151.35220905951113, current cost 151.35220905951113\n",
      "Epoch 280, minibatch 499/500, training accu 0.9250%, training loss 163.88622742481567, current cost 163.88622742481567\n",
      "Epoch 300, minibatch 499/500, training accu 0.9667%, training loss 96.3567422201214, current cost 96.3567422201214\n",
      "Epoch 320, minibatch 499/500, training accu 0.9417%, training loss 127.79172933410388, current cost 127.79172933410388\n",
      "Epoch 340, minibatch 499/500, training accu 0.9583%, training loss 193.19734504765012, current cost 193.19734504765012\n",
      "Epoch 360, minibatch 499/500, training accu 0.9500%, training loss 168.85222430712682, current cost 168.85222430712682\n",
      "Epoch 380, minibatch 499/500, training accu 0.9583%, training loss 130.33237236357758, current cost 130.33237236357758\n",
      "Epoch 400, minibatch 499/500, training accu 0.9583%, training loss 116.74617308111965, current cost 116.74617308111965\n",
      "Epoch 420, minibatch 499/500, training accu 0.9500%, training loss 163.6736602033138, current cost 163.6736602033138\n",
      "Epoch 440, minibatch 499/500, training accu 0.9500%, training loss 161.8539647325798, current cost 161.8539647325798\n",
      "Epoch 460, minibatch 499/500, training accu 0.9417%, training loss 157.8383403505279, current cost 157.8383403505279\n",
      "Epoch 480, minibatch 499/500, training accu 0.9583%, training loss 135.89449580870735, current cost 135.89449580870735\n",
      "Epoch 500, minibatch 499/500, training accu 0.9417%, training loss 178.9508353141118, current cost 178.9508353141118\n",
      "Epoch 520, minibatch 499/500, training accu 0.9500%, training loss 118.33500398772179, current cost 118.33500398772179\n",
      "Epoch 540, minibatch 499/500, training accu 0.9500%, training loss 141.56423998615912, current cost 141.56423998615912\n",
      "Epoch 560, minibatch 499/500, training accu 0.9417%, training loss 159.5547107654963, current cost 159.5547107654963\n",
      "Epoch 580, minibatch 499/500, training accu 0.9417%, training loss 182.20713274344175, current cost 182.20713274344175\n",
      "Epoch 600, minibatch 499/500, training accu 0.9667%, training loss 132.42277752020377, current cost 132.42277752020377\n",
      "Epoch 620, minibatch 499/500, training accu 0.9833%, training loss 89.76039412578795, current cost 89.76039412578795\n",
      "Epoch 640, minibatch 499/500, training accu 0.9417%, training loss 142.24519739320124, current cost 142.24519739320124\n",
      "Epoch 660, minibatch 499/500, training accu 0.9583%, training loss 128.99914126866622, current cost 128.99914126866622\n",
      "Epoch 680, minibatch 499/500, training accu 0.9417%, training loss 114.26757579533644, current cost 114.26757579533644\n",
      "Epoch 700, minibatch 499/500, training accu 0.9583%, training loss 109.80697347813435, current cost 109.80697347813435\n",
      "Epoch 720, minibatch 499/500, training accu 0.9417%, training loss 126.63211805939663, current cost 126.63211805939663\n",
      "Epoch 740, minibatch 499/500, training accu 0.9250%, training loss 155.77454354465863, current cost 155.77454354465863\n",
      "Epoch 760, minibatch 499/500, training accu 0.9667%, training loss 61.14444895745761, current cost 61.14444895745761\n",
      "Epoch 780, minibatch 499/500, training accu 0.9417%, training loss 159.83957598898826, current cost 159.83957598898826\n",
      "Epoch 800, minibatch 499/500, training accu 0.9500%, training loss 141.7150042764645, current cost 141.7150042764645\n",
      "Epoch 820, minibatch 499/500, training accu 0.9583%, training loss 85.76166023923051, current cost 85.76166023923051\n",
      "Epoch 840, minibatch 499/500, training accu 0.9500%, training loss 114.96847537735135, current cost 114.96847537735135\n",
      "Epoch 860, minibatch 499/500, training accu 0.9500%, training loss 108.44288001961307, current cost 108.44288001961307\n",
      "Epoch 880, minibatch 499/500, training accu 0.9583%, training loss 85.50639235440049, current cost 85.50639235440049\n",
      "Epoch 900, minibatch 499/500, training accu 0.9667%, training loss 106.07397176078217, current cost 106.07397176078217\n",
      "Epoch 920, minibatch 499/500, training accu 0.9667%, training loss 88.17587285518785, current cost 88.17587285518785\n",
      "Epoch 940, minibatch 499/500, training accu 0.9667%, training loss 94.91101941402485, current cost 94.91101941402485\n",
      "Epoch 960, minibatch 499/500, training accu 0.9500%, training loss 114.01200594665293, current cost 114.01200594665293\n",
      "Epoch 980, minibatch 499/500, training accu 0.9583%, training loss 72.54665078646725, current cost 72.54665078646725\n"
     ]
    }
   ],
   "source": [
    "num_batches = x_train.shape[0] // batch_size\n",
    "num_epochs = 1000\n",
    "num_iters = num_batches * num_epochs\n",
    "train_loss = np.zeros(num_iters)\n",
    "train_accu = np.zeros(num_iters)\n",
    "\n",
    "for epoch in range(num_epochs):\n",
    "    for batch in range(num_batches):\n",
    "        cur_iter_idx = epoch * num_batches + batch\n",
    "        train_loss[cur_iter_idx], train_accu[cur_iter_idx], cur_cost = single_layer_model(batch)\n",
    "        \n",
    "    if epoch % 20 == 0:\n",
    "        print(\"Epoch {}, minibatch {}/{}, training accu {:02.4f}%, training loss {}, current cost {}\".format(\n",
    "            epoch, batch, num_batches, train_accu[cur_iter_idx], train_loss[cur_iter_idx], cur_cost))"
   ]
  },
  {
   "cell_type": "code",
   "execution_count": 19,
   "metadata": {},
   "outputs": [
    {
     "data": {
      "text/plain": [
       "0.8846"
      ]
     },
     "execution_count": 19,
     "metadata": {},
     "output_type": "execute_result"
    }
   ],
   "source": [
    "y_test_pred = label_pred.eval({x: x_test})\n",
    "np.mean(y_test == y_test_pred)"
   ]
  },
  {
   "cell_type": "markdown",
   "metadata": {},
   "source": [
    "# Two layer network"
   ]
  },
  {
   "cell_type": "code",
   "execution_count": 20,
   "metadata": {},
   "outputs": [],
   "source": [
    "(x_train, y_train), (x_test, y_test) = keras.datasets.mnist.load_data()"
   ]
  },
  {
   "cell_type": "code",
   "execution_count": 21,
   "metadata": {},
   "outputs": [],
   "source": [
    "batch_size = 600\n",
    "y_train_one_hot = keras.utils.to_categorical(y_train)\n",
    "y_test_one_hot = keras.utils.to_categorical(y_test)\n",
    "n_input = np.prod(x_train.shape[1:], dtype=np.int)\n",
    "n_output = np.prod(y_train_one_hot[0].shape, dtype=np.int)\n",
    "\n",
    "x_train_flatten = np.reshape(x_train, (x_train.shape[0], n_input))\n",
    "x_test_flatten = np.reshape(x_test, (x_test.shape[0], n_input))\n",
    "\n",
    "n_hidden = 500"
   ]
  },
  {
   "cell_type": "code",
   "execution_count": 22,
   "metadata": {},
   "outputs": [],
   "source": [
    "def shared_glorot_uniform(shape, dtype=th.config.floatX, name='', n=None):\n",
    "    if isinstance(shape, int):\n",
    "        high = np.sqrt(6.0 / shape)\n",
    "    else:\n",
    "        high = np.sqrt(6.0 / (np.sum(shape[:2]) * np.prod(shape[2:])))\n",
    "    shape = shape if n is None else (n,) + shape\n",
    "    \n",
    "    return th.shared(np.asarray(\n",
    "                        np.random.uniform(low=-high, high=high, size=shape),\n",
    "                        dtype=dtype),\n",
    "                    name=name)"
   ]
  },
  {
   "cell_type": "code",
   "execution_count": 23,
   "metadata": {},
   "outputs": [],
   "source": [
    "def shared_zeros(shape, dtype=th.config.floatX, name='', n=None):\n",
    "    shape = shape if n is None else (n,) + shape\n",
    "    return th.shared(np.zeros(shape, dtype=dtype), name=name)"
   ]
  },
  {
   "cell_type": "code",
   "execution_count": 24,
   "metadata": {},
   "outputs": [],
   "source": [
    "train_set_x = th.shared(value=np.asarray(x_train_flatten, dtype=th.config.floatX))\n",
    "train_set_y = th.shared(value=np.asarray(y_train_one_hot, dtype='int32'))"
   ]
  },
  {
   "cell_type": "code",
   "execution_count": 25,
   "metadata": {},
   "outputs": [],
   "source": [
    "x = T.fmatrix()\n",
    "t = T.imatrix()"
   ]
  },
  {
   "cell_type": "code",
   "execution_count": 26,
   "metadata": {},
   "outputs": [],
   "source": [
    "idx = T.iscalar()"
   ]
  },
  {
   "cell_type": "code",
   "execution_count": 27,
   "metadata": {},
   "outputs": [],
   "source": [
    "W1 = shared_glorot_uniform([n_input, n_hidden], name='W1')\n",
    "b1 = shared_zeros((n_hidden, ), name='b1')"
   ]
  },
  {
   "cell_type": "code",
   "execution_count": 28,
   "metadata": {},
   "outputs": [],
   "source": [
    "W2 = shared_glorot_uniform([n_hidden, n_output], name='W2')\n",
    "b2 = shared_zeros((n_output, ), name='b2')"
   ]
  },
  {
   "cell_type": "code",
   "execution_count": 29,
   "metadata": {},
   "outputs": [],
   "source": [
    "hidden_output = T.tanh(T.dot(x, W1) + b1)"
   ]
  },
  {
   "cell_type": "code",
   "execution_count": 30,
   "metadata": {},
   "outputs": [],
   "source": [
    "P_output = T.nnet.softmax(T.dot(hidden_output, W2) + b2)"
   ]
  },
  {
   "cell_type": "code",
   "execution_count": 31,
   "metadata": {},
   "outputs": [],
   "source": [
    "params = [W1, b1, W2, b2]"
   ]
  },
  {
   "cell_type": "code",
   "execution_count": 32,
   "metadata": {},
   "outputs": [],
   "source": [
    "xent_cost = T.nnet.nnet.categorical_crossentropy(P_output, t).mean()"
   ]
  },
  {
   "cell_type": "code",
   "execution_count": 33,
   "metadata": {},
   "outputs": [],
   "source": [
    "label_pred = T.argmax(P_output, axis=-1)\n",
    "accu = T.mean(T.eq(label_pred, T.argmax(t, axis=-1)))"
   ]
  },
  {
   "cell_type": "code",
   "execution_count": 34,
   "metadata": {},
   "outputs": [],
   "source": [
    "grad_params = T.grad(cost=xent_cost, wrt=params)"
   ]
  },
  {
   "cell_type": "code",
   "execution_count": 35,
   "metadata": {},
   "outputs": [],
   "source": [
    "learning_rate = 0.01"
   ]
  },
  {
   "cell_type": "code",
   "execution_count": 36,
   "metadata": {},
   "outputs": [],
   "source": [
    "updates = [\n",
    "    (param, param - learning_rate * gparam)\n",
    "    for param, gparam in zip(params, grad_params)\n",
    "]"
   ]
  },
  {
   "cell_type": "code",
   "execution_count": 37,
   "metadata": {},
   "outputs": [],
   "source": [
    "two_layer_model = th.function(inputs=[idx],\n",
    "                         outputs=[P_output, accu, xent_cost],\n",
    "                         updates=updates,\n",
    "                         givens={\n",
    "                             x: train_set_x[idx*batch_size: (idx+1)*batch_size],\n",
    "                             t: train_set_y[idx*batch_size: (idx+1)*batch_size]\n",
    "                         })"
   ]
  },
  {
   "cell_type": "code",
   "execution_count": 38,
   "metadata": {},
   "outputs": [
    {
     "name": "stdout",
     "output_type": "stream",
     "text": [
      "Epoch 0, minibatch 99/100, training accu 0.8833%, current cost 0.4405061577411834\n",
      "Epoch 5, minibatch 99/100, training accu 0.9500%, current cost 0.21476197891230792\n",
      "Epoch 10, minibatch 99/100, training accu 0.9633%, current cost 0.1741614799902042\n",
      "Epoch 15, minibatch 99/100, training accu 0.9733%, current cost 0.1389713060864354\n",
      "Epoch 20, minibatch 99/100, training accu 0.9750%, current cost 0.12672207685282047\n",
      "Epoch 25, minibatch 99/100, training accu 0.9817%, current cost 0.11203899142929004\n",
      "Epoch 30, minibatch 99/100, training accu 0.9833%, current cost 0.09998467298807857\n",
      "Epoch 35, minibatch 99/100, training accu 0.9850%, current cost 0.09394883046841641\n",
      "Epoch 40, minibatch 99/100, training accu 0.9867%, current cost 0.0884243809868955\n",
      "Epoch 45, minibatch 99/100, training accu 0.9867%, current cost 0.08538326575832798\n",
      "Epoch 50, minibatch 99/100, training accu 0.9867%, current cost 0.080507087315976\n",
      "Epoch 55, minibatch 99/100, training accu 0.9867%, current cost 0.07775413071405637\n",
      "Epoch 60, minibatch 99/100, training accu 0.9883%, current cost 0.07522149512862143\n",
      "Epoch 65, minibatch 99/100, training accu 0.9883%, current cost 0.07401395086878892\n",
      "Epoch 70, minibatch 99/100, training accu 0.9900%, current cost 0.07217516278968408\n",
      "Epoch 75, minibatch 99/100, training accu 0.9900%, current cost 0.07046290841301167\n",
      "Epoch 80, minibatch 99/100, training accu 0.9900%, current cost 0.06893305385538952\n",
      "Epoch 85, minibatch 99/100, training accu 0.9900%, current cost 0.06743698078676667\n",
      "Epoch 90, minibatch 99/100, training accu 0.9900%, current cost 0.06645384074489281\n",
      "Epoch 95, minibatch 99/100, training accu 0.9900%, current cost 0.06515055015519768\n"
     ]
    }
   ],
   "source": [
    "num_batches = x_train.shape[0] // batch_size\n",
    "num_epochs = 100\n",
    "num_iters = num_batches * num_epochs\n",
    "train_accu = np.zeros(num_iters)\n",
    "\n",
    "for epoch in range(num_epochs):\n",
    "    for batch in range(num_batches):\n",
    "        cur_iter_idx = epoch * num_batches + batch\n",
    "        _, train_accu[cur_iter_idx], cur_cost = two_layer_model(batch)\n",
    "        \n",
    "    if epoch % 5 == 0:\n",
    "        print(\"Epoch {}, minibatch {}/{}, training accu {:02.4f}%, current cost {}\".format(\n",
    "            epoch, batch, num_batches, train_accu[cur_iter_idx], cur_cost))"
   ]
  },
  {
   "cell_type": "code",
   "execution_count": 39,
   "metadata": {},
   "outputs": [
    {
     "data": {
      "text/plain": [
       "0.9512"
      ]
     },
     "execution_count": 39,
     "metadata": {},
     "output_type": "execute_result"
    }
   ],
   "source": [
    "y_test_pred = label_pred.eval({x: x_test_flatten})\n",
    "np.mean(y_test == y_test_pred)"
   ]
  },
  {
   "cell_type": "markdown",
   "metadata": {},
   "source": [
    "# CNN"
   ]
  },
  {
   "cell_type": "code",
   "execution_count": 91,
   "metadata": {},
   "outputs": [],
   "source": [
    "(x_train, y_train), (x_test, y_test) = keras.datasets.mnist.load_data()\n",
    "\n",
    "x_validate = x_train[55000:]\n",
    "y_validate = y_train[55000:]\n",
    "x_train = x_train[:55000]\n",
    "y_train = y_train[:55000]"
   ]
  },
  {
   "cell_type": "code",
   "execution_count": 92,
   "metadata": {},
   "outputs": [],
   "source": [
    "y_train_one_hot = keras.utils.to_categorical(y_train)\n",
    "y_test_one_hot = keras.utils.to_categorical(y_test)"
   ]
  },
  {
   "cell_type": "code",
   "execution_count": 93,
   "metadata": {},
   "outputs": [],
   "source": [
    "n_train_samples = x_train.shape[0]\n",
    "n_test_samples = x_test.shape[0]\n",
    "img_height, img_width = x_train.shape[1:]"
   ]
  },
  {
   "cell_type": "code",
   "execution_count": 94,
   "metadata": {},
   "outputs": [],
   "source": [
    "x_train = x_train.reshape(n_train_samples, img_height, img_width)\n",
    "x_test = x_test.reshape(n_test_samples, img_height, img_width)"
   ]
  },
  {
   "cell_type": "code",
   "execution_count": 95,
   "metadata": {},
   "outputs": [],
   "source": [
    "from theano.tensor.signal import pool"
   ]
  },
  {
   "cell_type": "code",
   "execution_count": 96,
   "metadata": {},
   "outputs": [],
   "source": [
    "class conv_layer:\n",
    "    idx=0\n",
    "    def __init__(self, input, input_shape=None, \n",
    "                 filter_shape=None, n_filters=1, border_mode='valid',\n",
    "                activation=T.nnet.relu, name=None):\n",
    "        \n",
    "        if not name:\n",
    "            W_name = 'Weight_' + str(conv_layer.idx) + '_conv'\n",
    "            b_name = 'bias_' + str(conv_layer.idx) + '_conv'\n",
    "            layer_name = 'conv' + '_' + str(conv_layer.idx) + '_conv'\n",
    "            conv_layer.idx += 1\n",
    "        else:\n",
    "            W_name = 'Weight_' + name\n",
    "            b_name = 'bias_' + name\n",
    "            layer_name = name\n",
    "    \n",
    "        n_channels = input_shape[1]\n",
    "        self._filter_shape = [n_filters, n_channels] + filter_shape\n",
    "\n",
    "        self.W = shared_glorot_uniform(self._filter_shape, name=W_name)\n",
    "        self.b = th.shared(np.asarray(np.random.normal(size=[n_filters, 1, 1]),\n",
    "                                      dtype=th.config.floatX),\n",
    "                           name=name,\n",
    "                          broadcastable=(False, True, True))\n",
    "        self._input_tensor = input\n",
    "        self._border_mode = border_mode\n",
    "        self._input_shape = input_shape\n",
    "        self._activation = activation\n",
    "        \n",
    "    def __call__(self):\n",
    "        conv_out = theano.tensor.nnet.conv2d(input=self._input_tensor,\n",
    "                                           filters=self.W,\n",
    "                                           input_shape=self._input_shape,\n",
    "                                           filter_shape=self._filter_shape,\n",
    "                                           border_mode=self._border_mode)\n",
    "        out = self._activation(conv_out + self.b)\n",
    "        return out\n",
    "    \n",
    "    def weights(self):\n",
    "        return [self.W, self.b]\n",
    "    \n",
    "    @property\n",
    "    def name(self):\n",
    "        return self.layer_name"
   ]
  },
  {
   "cell_type": "code",
   "execution_count": 221,
   "metadata": {},
   "outputs": [],
   "source": [
    "batch_size = 1000\n",
    "x = T.tensor3(name='x')\n",
    "t = T.ivector(name='t')\n",
    "x_input = x.reshape([batch_size, 1, 28, 28])"
   ]
  },
  {
   "cell_type": "code",
   "execution_count": 222,
   "metadata": {},
   "outputs": [],
   "source": [
    "conv1 = conv_layer(input=x_input, \n",
    "                   input_shape=[batch_size, 1, 28, 28],\n",
    "                   n_filters=16,\n",
    "                   filter_shape=[5, 5])\n",
    "conv1_out = conv1()"
   ]
  },
  {
   "cell_type": "code",
   "execution_count": 223,
   "metadata": {},
   "outputs": [],
   "source": [
    "pool1_out = pool.pool_2d(input=conv1_out, ws=[2, 2], ignore_border=True)"
   ]
  },
  {
   "cell_type": "code",
   "execution_count": 224,
   "metadata": {},
   "outputs": [],
   "source": [
    "conv2 = conv_layer(input=pool1_out,\n",
    "                  input_shape=[batch_size, 16, 12, 12],\n",
    "                  n_filters=32,\n",
    "                  filter_shape=[3, 3])\n",
    "conv2_out = conv2()"
   ]
  },
  {
   "cell_type": "code",
   "execution_count": 225,
   "metadata": {},
   "outputs": [],
   "source": [
    "pool2_out = pool.pool_2d(input=conv2_out, ws=[2, 2], ignore_border=True)"
   ]
  },
  {
   "cell_type": "code",
   "execution_count": 226,
   "metadata": {},
   "outputs": [],
   "source": [
    "flattened = pool2_out.flatten(2)"
   ]
  },
  {
   "cell_type": "code",
   "execution_count": 227,
   "metadata": {},
   "outputs": [],
   "source": [
    "class fc_layer:\n",
    "    idx = 0\n",
    "    \n",
    "    def __init__(self, input, input_length, output_length, \n",
    "                 name=None, activation=T.tanh):\n",
    "              \n",
    "        if not name:\n",
    "            W_name = 'Weight_' + str(fc_layer.idx) + '_fc'\n",
    "            b_name = 'bias_' + str(fc_layer.idx) + '_fc'\n",
    "            layer_name = 'fc' + '_' + str(fc_layer.idx) + '_fc'\n",
    "            fc_layer.idx += 1\n",
    "        else:\n",
    "            W_name = 'Weight_' + name\n",
    "            b_name = 'bias_' + name\n",
    "            layer_name = name\n",
    "\n",
    "        \n",
    "        self.W = shared_glorot_uniform((input_length, output_length), \n",
    "                                  name=W_name)\n",
    "        self.b = shared_glorot_uniform((output_length, ), name=b_name)\n",
    "        self._input = input\n",
    "        self._activation = activation\n",
    "        \n",
    "    def __call__(self):\n",
    "        out = self._activation(T.dot(self._input, self.W) + self.b)\n",
    "        return out\n",
    "    \n",
    "    def weights(self):\n",
    "        return [self.W, self.b]\n",
    "    \n",
    "    @property\n",
    "    def name(self):\n",
    "        return self.layer_name"
   ]
  },
  {
   "cell_type": "code",
   "execution_count": 228,
   "metadata": {},
   "outputs": [],
   "source": [
    "fc1 = fc_layer(input=flattened, input_length=32*5*5, \n",
    "               output_length=500)\n",
    "fc1_out = fc1()"
   ]
  },
  {
   "cell_type": "code",
   "execution_count": 229,
   "metadata": {},
   "outputs": [],
   "source": [
    "fc2 = fc_layer(input=fc1_out, input_length=500, \n",
    "               output_length=10, activation=T.nnet.softmax)\n",
    "fc2_out = fc2()"
   ]
  },
  {
   "cell_type": "code",
   "execution_count": 230,
   "metadata": {},
   "outputs": [],
   "source": [
    "pred = T.argmax(fc2_out, axis=-1)\n",
    "accu = T.mean(T.eq(pred, t))"
   ]
  },
  {
   "cell_type": "code",
   "execution_count": 231,
   "metadata": {},
   "outputs": [],
   "source": [
    "xent_cost = T.nnet.categorical_crossentropy(fc2_out, t).mean()\n",
    "\n",
    "params = conv1.weights() + conv2.weights() + fc1.weights() + fc2.weights()\n",
    "g_params = T.grad(cost=xent_cost, wrt=params)"
   ]
  },
  {
   "cell_type": "markdown",
   "metadata": {},
   "source": [
    "### Training"
   ]
  },
  {
   "cell_type": "code",
   "execution_count": 232,
   "metadata": {},
   "outputs": [],
   "source": [
    "train_set_x = th.shared(np.asarray(x_train, dtype=th.config.floatX))\n",
    "train_set_y = th.shared(np.asarray(y_train, dtype='int32'))"
   ]
  },
  {
   "cell_type": "code",
   "execution_count": 233,
   "metadata": {},
   "outputs": [],
   "source": [
    "cnn_validation_model = th.function(inputs=[x, t],\n",
    "                              outputs=[xent_cost, accu])"
   ]
  },
  {
   "cell_type": "code",
   "execution_count": 234,
   "metadata": {},
   "outputs": [],
   "source": [
    "learning_rate = 0.001\n",
    "updates = [\n",
    "    (param, param - learning_rate * gparam)\n",
    "    for param, gparam in zip(params, g_params)\n",
    "]"
   ]
  },
  {
   "cell_type": "code",
   "execution_count": 235,
   "metadata": {},
   "outputs": [],
   "source": [
    "idx = T.iscalar('idx')\n",
    "\n",
    "cnn_train_model = th.function(inputs=[idx],\n",
    "                             outputs=[xent_cost, accu, pred],\n",
    "                             updates=updates,\n",
    "                             givens={\n",
    "                                 x: train_set_x[idx*batch_size: (idx+1)*batch_size],\n",
    "                                 t: train_set_y[idx*batch_size: (idx+1)*batch_size]\n",
    "                             })"
   ]
  },
  {
   "cell_type": "code",
   "execution_count": 236,
   "metadata": {},
   "outputs": [],
   "source": [
    "n_epochs = 20\n",
    "n_batches = x_train.shape[0] // batch_size\n",
    "n_iters = n_epochs * n_batches\n",
    "train_cost_hist = np.zeros(n_iters)\n",
    "train_acc_hist = np.zeros(n_iters)\n",
    "train_prob_hist = []"
   ]
  },
  {
   "cell_type": "code",
   "execution_count": 237,
   "metadata": {},
   "outputs": [],
   "source": [
    "validation_interval = 100\n",
    "validate_n_batches = x_validate.shape[0] // batch_size\n",
    "validate_cost_hist = np.zeros(n_iters // validation_interval)\n",
    "validate_acc_hist = np.zeros(n_iters // validation_interval)"
   ]
  },
  {
   "cell_type": "code",
   "execution_count": 238,
   "metadata": {},
   "outputs": [
    {
     "name": "stdout",
     "output_type": "stream",
     "text": [
      "train cost 3.74002218, train accuracy 0.04200000 at epoch 0 batch 0\n",
      "validation cost 3.45784626, validation accuracy 0.03780000 at epoch 0, batch 0/55\n",
      "train cost 2.79027200, train accuracy 0.07400000 at epoch 0 batch 5\n",
      "train cost 2.48484635, train accuracy 0.10700000 at epoch 0 batch 10\n",
      "train cost 2.26358199, train accuracy 0.19400000 at epoch 0 batch 15\n",
      "train cost 2.08279014, train accuracy 0.26600000 at epoch 0 batch 20\n",
      "train cost 1.97320771, train accuracy 0.32300000 at epoch 0 batch 25\n",
      "train cost 1.92296660, train accuracy 0.32900000 at epoch 0 batch 30\n",
      "train cost 1.75694740, train accuracy 0.41700000 at epoch 0 batch 35\n",
      "train cost 1.67435241, train accuracy 0.48800000 at epoch 0 batch 40\n",
      "train cost 1.62732720, train accuracy 0.49600000 at epoch 0 batch 45\n",
      "train cost 1.55969203, train accuracy 0.54000000 at epoch 0 batch 50\n",
      "train cost 1.44428623, train accuracy 0.61400000 at epoch 1 batch 0\n",
      "train cost 1.41386890, train accuracy 0.59900000 at epoch 1 batch 5\n",
      "train cost 1.32339406, train accuracy 0.64000000 at epoch 1 batch 10\n",
      "train cost 1.32583165, train accuracy 0.65300000 at epoch 1 batch 15\n",
      "train cost 1.29438663, train accuracy 0.65100000 at epoch 1 batch 20\n",
      "train cost 1.22743726, train accuracy 0.69900000 at epoch 1 batch 25\n",
      "train cost 1.29500580, train accuracy 0.63600000 at epoch 1 batch 30\n",
      "train cost 1.17943347, train accuracy 0.70100000 at epoch 1 batch 35\n",
      "train cost 1.14716494, train accuracy 0.71600000 at epoch 1 batch 40\n",
      "train cost 1.17345369, train accuracy 0.67700000 at epoch 1 batch 45\n",
      "validation cost 1.07403979, validation accuracy 0.74540000 at epoch 1, batch 45/55\n",
      "train cost 1.15910637, train accuracy 0.69900000 at epoch 1 batch 50\n",
      "train cost 1.07471538, train accuracy 0.73800000 at epoch 2 batch 0\n",
      "train cost 1.09837592, train accuracy 0.71500000 at epoch 2 batch 5\n",
      "train cost 1.01460528, train accuracy 0.74400000 at epoch 2 batch 10\n",
      "train cost 1.04496729, train accuracy 0.74100000 at epoch 2 batch 15\n",
      "train cost 1.04302156, train accuracy 0.74400000 at epoch 2 batch 20\n",
      "train cost 0.97336805, train accuracy 0.77000000 at epoch 2 batch 25\n",
      "train cost 1.04890096, train accuracy 0.72600000 at epoch 2 batch 30\n",
      "train cost 0.95151526, train accuracy 0.77200000 at epoch 2 batch 35\n",
      "train cost 0.93103534, train accuracy 0.78100000 at epoch 2 batch 40\n",
      "train cost 0.97754353, train accuracy 0.74200000 at epoch 2 batch 45\n",
      "train cost 0.97734016, train accuracy 0.75500000 at epoch 2 batch 50\n",
      "train cost 0.90094244, train accuracy 0.79500000 at epoch 3 batch 0\n",
      "train cost 0.92723370, train accuracy 0.76500000 at epoch 3 batch 5\n",
      "train cost 0.85611725, train accuracy 0.79900000 at epoch 3 batch 10\n",
      "train cost 0.90021563, train accuracy 0.77200000 at epoch 3 batch 15\n",
      "train cost 0.90962547, train accuracy 0.77500000 at epoch 3 batch 20\n",
      "train cost 0.83038491, train accuracy 0.79800000 at epoch 3 batch 25\n",
      "train cost 0.91148871, train accuracy 0.77100000 at epoch 3 batch 30\n",
      "train cost 0.81913471, train accuracy 0.80800000 at epoch 3 batch 35\n",
      "validation cost 0.77567596, validation accuracy 0.83380000 at epoch 3, batch 35/55\n",
      "train cost 0.80171657, train accuracy 0.82100000 at epoch 3 batch 40\n",
      "train cost 0.85767657, train accuracy 0.78500000 at epoch 3 batch 45\n",
      "train cost 0.85695088, train accuracy 0.79000000 at epoch 3 batch 50\n",
      "train cost 0.78761572, train accuracy 0.81800000 at epoch 4 batch 0\n",
      "train cost 0.80982411, train accuracy 0.80300000 at epoch 4 batch 5\n",
      "train cost 0.74927008, train accuracy 0.82300000 at epoch 4 batch 10\n",
      "train cost 0.79551709, train accuracy 0.80500000 at epoch 4 batch 15\n",
      "train cost 0.80523831, train accuracy 0.80500000 at epoch 4 batch 20\n",
      "train cost 0.74188685, train accuracy 0.81700000 at epoch 4 batch 25\n",
      "train cost 0.81206888, train accuracy 0.79900000 at epoch 4 batch 30\n",
      "train cost 0.72695899, train accuracy 0.82900000 at epoch 4 batch 35\n",
      "train cost 0.70784146, train accuracy 0.83200000 at epoch 4 batch 40\n",
      "train cost 0.76847756, train accuracy 0.80900000 at epoch 4 batch 45\n",
      "train cost 0.77525115, train accuracy 0.81300000 at epoch 4 batch 50\n",
      "train cost 0.70609546, train accuracy 0.83700000 at epoch 5 batch 0\n",
      "train cost 0.72480696, train accuracy 0.82500000 at epoch 5 batch 5\n",
      "train cost 0.66810280, train accuracy 0.84600000 at epoch 5 batch 10\n",
      "train cost 0.71870506, train accuracy 0.82600000 at epoch 5 batch 15\n",
      "train cost 0.73005801, train accuracy 0.82300000 at epoch 5 batch 20\n",
      "train cost 0.67026603, train accuracy 0.83200000 at epoch 5 batch 25\n",
      "validation cost 0.62454699, validation accuracy 0.86700000 at epoch 5, batch 25/55\n",
      "train cost 0.73756754, train accuracy 0.82000000 at epoch 5 batch 30\n",
      "train cost 0.65566313, train accuracy 0.85800000 at epoch 5 batch 35\n",
      "train cost 0.64050865, train accuracy 0.85000000 at epoch 5 batch 40\n",
      "train cost 0.70042706, train accuracy 0.82600000 at epoch 5 batch 45\n",
      "train cost 0.71653771, train accuracy 0.82400000 at epoch 5 batch 50\n",
      "train cost 0.64377481, train accuracy 0.85600000 at epoch 6 batch 0\n",
      "train cost 0.66311371, train accuracy 0.83300000 at epoch 6 batch 5\n",
      "train cost 0.61426485, train accuracy 0.86100000 at epoch 6 batch 10\n",
      "train cost 0.65658587, train accuracy 0.84100000 at epoch 6 batch 15\n",
      "train cost 0.67045426, train accuracy 0.84000000 at epoch 6 batch 20\n",
      "train cost 0.61420369, train accuracy 0.84200000 at epoch 6 batch 25\n",
      "train cost 0.67728680, train accuracy 0.83500000 at epoch 6 batch 30\n",
      "train cost 0.59707642, train accuracy 0.87700000 at epoch 6 batch 35\n",
      "train cost 0.58736420, train accuracy 0.87400000 at epoch 6 batch 40\n",
      "train cost 0.64757156, train accuracy 0.83400000 at epoch 6 batch 45\n",
      "train cost 0.67072970, train accuracy 0.82300000 at epoch 6 batch 50\n",
      "train cost 0.59636039, train accuracy 0.86800000 at epoch 7 batch 0\n",
      "train cost 0.61275649, train accuracy 0.84100000 at epoch 7 batch 5\n",
      "train cost 0.56822449, train accuracy 0.87600000 at epoch 7 batch 10\n",
      "train cost 0.61137128, train accuracy 0.85900000 at epoch 7 batch 15\n",
      "validation cost 0.53363582, validation accuracy 0.88680000 at epoch 7, batch 15/55\n",
      "train cost 0.62356865, train accuracy 0.84500000 at epoch 7 batch 20\n",
      "train cost 0.56917846, train accuracy 0.85400000 at epoch 7 batch 25\n",
      "train cost 0.63142622, train accuracy 0.85000000 at epoch 7 batch 30\n",
      "train cost 0.54914832, train accuracy 0.88800000 at epoch 7 batch 35\n",
      "train cost 0.54490209, train accuracy 0.88200000 at epoch 7 batch 40\n",
      "train cost 0.59941262, train accuracy 0.84700000 at epoch 7 batch 45\n",
      "train cost 0.63183212, train accuracy 0.83600000 at epoch 7 batch 50\n",
      "train cost 0.55615681, train accuracy 0.87300000 at epoch 8 batch 0\n",
      "train cost 0.57375550, train accuracy 0.86200000 at epoch 8 batch 5\n",
      "train cost 0.52620059, train accuracy 0.88200000 at epoch 8 batch 10\n",
      "train cost 0.57216007, train accuracy 0.87200000 at epoch 8 batch 15\n",
      "train cost 0.58644617, train accuracy 0.85900000 at epoch 8 batch 20\n",
      "train cost 0.53214955, train accuracy 0.86100000 at epoch 8 batch 25\n",
      "train cost 0.59378564, train accuracy 0.85700000 at epoch 8 batch 30\n",
      "train cost 0.51266432, train accuracy 0.89800000 at epoch 8 batch 35\n",
      "train cost 0.50859463, train accuracy 0.89300000 at epoch 8 batch 40\n",
      "train cost 0.56301504, train accuracy 0.86600000 at epoch 8 batch 45\n",
      "train cost 0.59405959, train accuracy 0.85100000 at epoch 8 batch 50\n",
      "train cost 0.52293116, train accuracy 0.88400000 at epoch 9 batch 0\n",
      "train cost 0.54171824, train accuracy 0.87200000 at epoch 9 batch 5\n",
      "validation cost 0.47195734, validation accuracy 0.89960000 at epoch 9, batch 5/55\n",
      "train cost 0.49267787, train accuracy 0.88600000 at epoch 9 batch 10\n",
      "train cost 0.53743750, train accuracy 0.87800000 at epoch 9 batch 15\n",
      "train cost 0.55365717, train accuracy 0.86600000 at epoch 9 batch 20\n",
      "train cost 0.50151116, train accuracy 0.86900000 at epoch 9 batch 25\n",
      "train cost 0.56189460, train accuracy 0.85700000 at epoch 9 batch 30\n",
      "train cost 0.48255938, train accuracy 0.90400000 at epoch 9 batch 35\n",
      "train cost 0.47639456, train accuracy 0.90200000 at epoch 9 batch 40\n",
      "train cost 0.53539854, train accuracy 0.86600000 at epoch 9 batch 45\n",
      "train cost 0.56318825, train accuracy 0.85700000 at epoch 9 batch 50\n",
      "train cost 0.49614647, train accuracy 0.88700000 at epoch 10 batch 0\n",
      "train cost 0.51261771, train accuracy 0.87600000 at epoch 10 batch 5\n",
      "train cost 0.46540266, train accuracy 0.89200000 at epoch 10 batch 10\n",
      "train cost 0.51009172, train accuracy 0.88000000 at epoch 10 batch 15\n",
      "train cost 0.52754074, train accuracy 0.87400000 at epoch 10 batch 20\n",
      "train cost 0.47617781, train accuracy 0.87600000 at epoch 10 batch 25\n",
      "train cost 0.53530896, train accuracy 0.86800000 at epoch 10 batch 30\n",
      "train cost 0.45486340, train accuracy 0.90700000 at epoch 10 batch 35\n",
      "train cost 0.44994339, train accuracy 0.90800000 at epoch 10 batch 40\n",
      "train cost 0.50973403, train accuracy 0.87100000 at epoch 10 batch 45\n",
      "train cost 0.53933853, train accuracy 0.86400000 at epoch 10 batch 50\n",
      "validation cost 0.42648439, validation accuracy 0.91300000 at epoch 10, batch 50/55\n",
      "train cost 0.47298378, train accuracy 0.89600000 at epoch 11 batch 0\n",
      "train cost 0.48844680, train accuracy 0.88500000 at epoch 11 batch 5\n",
      "train cost 0.44149873, train accuracy 0.89900000 at epoch 11 batch 10\n",
      "train cost 0.48628113, train accuracy 0.88600000 at epoch 11 batch 15\n",
      "train cost 0.50464553, train accuracy 0.88100000 at epoch 11 batch 20\n",
      "train cost 0.45427981, train accuracy 0.87900000 at epoch 11 batch 25\n",
      "train cost 0.51253426, train accuracy 0.87500000 at epoch 11 batch 30\n",
      "train cost 0.43326020, train accuracy 0.91400000 at epoch 11 batch 35\n",
      "train cost 0.42865416, train accuracy 0.91200000 at epoch 11 batch 40\n",
      "train cost 0.48918992, train accuracy 0.87200000 at epoch 11 batch 45\n",
      "train cost 0.51888204, train accuracy 0.86700000 at epoch 11 batch 50\n",
      "train cost 0.45153329, train accuracy 0.90600000 at epoch 12 batch 0\n",
      "train cost 0.46532249, train accuracy 0.88300000 at epoch 12 batch 5\n",
      "train cost 0.42164266, train accuracy 0.90700000 at epoch 12 batch 10\n",
      "train cost 0.46498561, train accuracy 0.88900000 at epoch 12 batch 15\n",
      "train cost 0.48477921, train accuracy 0.88500000 at epoch 12 batch 20\n",
      "train cost 0.43123427, train accuracy 0.88700000 at epoch 12 batch 25\n",
      "train cost 0.49208981, train accuracy 0.87900000 at epoch 12 batch 30\n",
      "train cost 0.41332090, train accuracy 0.91700000 at epoch 12 batch 35\n",
      "train cost 0.40964925, train accuracy 0.91700000 at epoch 12 batch 40\n",
      "validation cost 0.39164730, validation accuracy 0.91660000 at epoch 12, batch 40/55\n",
      "train cost 0.47120541, train accuracy 0.87900000 at epoch 12 batch 45\n",
      "train cost 0.50079697, train accuracy 0.86900000 at epoch 12 batch 50\n",
      "train cost 0.43153378, train accuracy 0.90400000 at epoch 13 batch 0\n",
      "train cost 0.44644570, train accuracy 0.88800000 at epoch 13 batch 5\n",
      "train cost 0.40289155, train accuracy 0.91000000 at epoch 13 batch 10\n",
      "train cost 0.44411013, train accuracy 0.89500000 at epoch 13 batch 15\n",
      "train cost 0.46637961, train accuracy 0.88900000 at epoch 13 batch 20\n",
      "train cost 0.41350168, train accuracy 0.89400000 at epoch 13 batch 25\n",
      "train cost 0.47302467, train accuracy 0.88200000 at epoch 13 batch 30\n",
      "train cost 0.39598629, train accuracy 0.92100000 at epoch 13 batch 35\n",
      "train cost 0.39351234, train accuracy 0.91900000 at epoch 13 batch 40\n",
      "train cost 0.45506296, train accuracy 0.88300000 at epoch 13 batch 45\n",
      "train cost 0.48402601, train accuracy 0.87700000 at epoch 13 batch 50\n",
      "train cost 0.41372678, train accuracy 0.90900000 at epoch 14 batch 0\n",
      "train cost 0.42825592, train accuracy 0.89800000 at epoch 14 batch 5\n",
      "train cost 0.38784212, train accuracy 0.91200000 at epoch 14 batch 10\n",
      "train cost 0.42641896, train accuracy 0.89800000 at epoch 14 batch 15\n",
      "train cost 0.44908327, train accuracy 0.89400000 at epoch 14 batch 20\n",
      "train cost 0.39671451, train accuracy 0.89300000 at epoch 14 batch 25\n",
      "train cost 0.45571962, train accuracy 0.88800000 at epoch 14 batch 30\n",
      "validation cost 0.36267842, validation accuracy 0.92460000 at epoch 14, batch 30/55\n",
      "train cost 0.37969875, train accuracy 0.92200000 at epoch 14 batch 35\n",
      "train cost 0.37876567, train accuracy 0.91700000 at epoch 14 batch 40\n",
      "train cost 0.44041696, train accuracy 0.88800000 at epoch 14 batch 45\n",
      "train cost 0.46843067, train accuracy 0.88200000 at epoch 14 batch 50\n",
      "train cost 0.39793855, train accuracy 0.91400000 at epoch 15 batch 0\n",
      "train cost 0.41374758, train accuracy 0.89700000 at epoch 15 batch 5\n",
      "train cost 0.37328303, train accuracy 0.91200000 at epoch 15 batch 10\n",
      "train cost 0.41132861, train accuracy 0.90100000 at epoch 15 batch 15\n",
      "train cost 0.43317273, train accuracy 0.89700000 at epoch 15 batch 20\n",
      "train cost 0.38329983, train accuracy 0.89700000 at epoch 15 batch 25\n",
      "train cost 0.43962398, train accuracy 0.89000000 at epoch 15 batch 30\n",
      "train cost 0.36409441, train accuracy 0.92600000 at epoch 15 batch 35\n",
      "train cost 0.36558864, train accuracy 0.92000000 at epoch 15 batch 40\n",
      "train cost 0.42708951, train accuracy 0.89100000 at epoch 15 batch 45\n",
      "train cost 0.45450881, train accuracy 0.88800000 at epoch 15 batch 50\n",
      "train cost 0.38366300, train accuracy 0.91700000 at epoch 16 batch 0\n",
      "train cost 0.40127349, train accuracy 0.90400000 at epoch 16 batch 5\n",
      "train cost 0.36044800, train accuracy 0.91200000 at epoch 16 batch 10\n",
      "train cost 0.39757985, train accuracy 0.90300000 at epoch 16 batch 15\n",
      "train cost 0.42194101, train accuracy 0.89500000 at epoch 16 batch 20\n",
      "validation cost 0.33822147, validation accuracy 0.92940000 at epoch 16, batch 20/55\n",
      "train cost 0.37241417, train accuracy 0.89800000 at epoch 16 batch 25\n",
      "train cost 0.42565510, train accuracy 0.89500000 at epoch 16 batch 30\n",
      "train cost 0.35185096, train accuracy 0.92800000 at epoch 16 batch 35\n",
      "train cost 0.35325679, train accuracy 0.92000000 at epoch 16 batch 40\n",
      "train cost 0.41453767, train accuracy 0.89600000 at epoch 16 batch 45\n",
      "train cost 0.44093442, train accuracy 0.89000000 at epoch 16 batch 50\n",
      "train cost 0.37195215, train accuracy 0.92200000 at epoch 17 batch 0\n",
      "train cost 0.38809469, train accuracy 0.90600000 at epoch 17 batch 5\n",
      "train cost 0.34867096, train accuracy 0.91500000 at epoch 17 batch 10\n",
      "train cost 0.38486853, train accuracy 0.90900000 at epoch 17 batch 15\n",
      "train cost 0.41052637, train accuracy 0.89900000 at epoch 17 batch 20\n",
      "train cost 0.36260128, train accuracy 0.89800000 at epoch 17 batch 25\n",
      "train cost 0.41199014, train accuracy 0.89700000 at epoch 17 batch 30\n",
      "train cost 0.34188372, train accuracy 0.93000000 at epoch 17 batch 35\n",
      "train cost 0.34224653, train accuracy 0.92300000 at epoch 17 batch 40\n",
      "train cost 0.40348506, train accuracy 0.89800000 at epoch 17 batch 45\n",
      "train cost 0.42788497, train accuracy 0.89300000 at epoch 17 batch 50\n",
      "train cost 0.36327654, train accuracy 0.92400000 at epoch 18 batch 0\n",
      "train cost 0.37514165, train accuracy 0.90900000 at epoch 18 batch 5\n",
      "train cost 0.33848554, train accuracy 0.91900000 at epoch 18 batch 10\n",
      "validation cost 0.32040309, validation accuracy 0.93180000 at epoch 18, batch 10/55\n",
      "train cost 0.37387154, train accuracy 0.91000000 at epoch 18 batch 15\n",
      "train cost 0.39925551, train accuracy 0.90200000 at epoch 18 batch 20\n",
      "train cost 0.35255075, train accuracy 0.90000000 at epoch 18 batch 25\n",
      "train cost 0.40038690, train accuracy 0.89900000 at epoch 18 batch 30\n",
      "train cost 0.33288485, train accuracy 0.93200000 at epoch 18 batch 35\n",
      "train cost 0.33258998, train accuracy 0.92200000 at epoch 18 batch 40\n",
      "train cost 0.39301080, train accuracy 0.90100000 at epoch 18 batch 45\n",
      "train cost 0.41627407, train accuracy 0.89800000 at epoch 18 batch 50\n",
      "train cost 0.35584706, train accuracy 0.92400000 at epoch 19 batch 0\n",
      "train cost 0.36349189, train accuracy 0.91300000 at epoch 19 batch 5\n",
      "train cost 0.32917577, train accuracy 0.92300000 at epoch 19 batch 10\n",
      "train cost 0.36481011, train accuracy 0.91100000 at epoch 19 batch 15\n",
      "train cost 0.38937664, train accuracy 0.90500000 at epoch 19 batch 20\n",
      "train cost 0.34291092, train accuracy 0.90100000 at epoch 19 batch 25\n",
      "train cost 0.38991347, train accuracy 0.90200000 at epoch 19 batch 30\n",
      "train cost 0.32444394, train accuracy 0.93600000 at epoch 19 batch 35\n",
      "train cost 0.32345039, train accuracy 0.92300000 at epoch 19 batch 40\n",
      "train cost 0.38329288, train accuracy 0.90600000 at epoch 19 batch 45\n",
      "train cost 0.40571111, train accuracy 0.90200000 at epoch 19 batch 50\n",
      "Time Eplapsed 443.4418477750005\n"
     ]
    }
   ],
   "source": [
    "import timeit\n",
    "start_time = timeit.default_timer()\n",
    "\n",
    "for epoch in range(n_epochs):\n",
    "    for cur_batch in range(n_batches):\n",
    "        cur_iter = cur_batch + n_batches * epoch\n",
    "        train_cost_hist[cur_iter], train_acc_hist[cur_iter], P = cnn_train_model(cur_batch)\n",
    "        \n",
    "        train_prob_hist.append(P)\n",
    "        if (cur_iter % 5 == 0):\n",
    "            print(\"train cost {:.8f}, train accuracy {:.8f} at epoch {} batch {}\".format(\n",
    "                    train_cost_hist[cur_iter], train_acc_hist[cur_iter], epoch, cur_batch))\n",
    "        if cur_iter % validation_interval == 0:\n",
    "            cur_val = cur_iter // validation_interval\n",
    "            validate_cost_hist[cur_val], validate_acc_hist[cur_val] = np.mean(\n",
    "                [\n",
    "                cnn_validation_model(\n",
    "                x_validate[i * batch_size: (i+1)*batch_size],\n",
    "                y_validate[i * batch_size: (i+1)*batch_size]\n",
    "            ) for i in range(validate_n_batches)]\n",
    "                , axis=0)\n",
    "            \n",
    "            print(\"validation cost {:.8f}, validation accuracy {:.8f}\"\n",
    "                  \" at epoch {}, batch {}/{}\".format(validate_cost_hist[cur_val],\n",
    "                                                    validate_acc_hist[cur_val],\n",
    "                                                    epoch, cur_batch, n_batches))\n",
    "    \n",
    "stop_time = timeit.default_timer()\n",
    "\n",
    "print(\"Time Eplapsed\", stop_time - start_time)"
   ]
  },
  {
   "cell_type": "code",
   "execution_count": 239,
   "metadata": {},
   "outputs": [
    {
     "name": "stdout",
     "output_type": "stream",
     "text": [
      "0.9151\n"
     ]
    }
   ],
   "source": [
    "test_accs = np.mean([accu.eval({x: x_test[i*batch_size: (i+1)*batch_size],\n",
    "                              t: y_test[i*batch_size: (i+1)*batch_size]})\n",
    "            for i in range(x_test.shape[0] // batch_size)])\n",
    "    \n",
    "print(test_accs)"
   ]
  },
  {
   "cell_type": "code",
   "execution_count": 240,
   "metadata": {},
   "outputs": [
    {
     "data": {
      "text/plain": [
       "[<matplotlib.lines.Line2D at 0x7ffa212229e8>]"
      ]
     },
     "execution_count": 240,
     "metadata": {},
     "output_type": "execute_result"
    },
    {
     "data": {
      "image/png": "[encoded data removed]",
      "text/plain": [
       "<Figure size 720x720 with 1 Axes>"
      ]
     },
     "metadata": {
      "needs_background": "light"
     },
     "output_type": "display_data"
    }
   ],
   "source": [
    "plt.figure(figsize=(10, 10))\n",
    "plt.plot(np.arange(len(train_cost_hist)), train_cost_hist)"
   ]
  },
  {
   "cell_type": "code",
   "execution_count": 242,
   "metadata": {},
   "outputs": [
    {
     "data": {
      "text/plain": [
       "[<matplotlib.lines.Line2D at 0x7ffa2b18e208>]"
      ]
     },
     "execution_count": 242,
     "metadata": {},
     "output_type": "execute_result"
    },
    {
     "data": {
      "image/png": "[encoded data removed]",
      "text/plain": [
       "<Figure size 720x720 with 1 Axes>"
      ]
     },
     "metadata": {
      "needs_background": "light"
     },
     "output_type": "display_data"
    }
   ],
   "source": [
    "plt.figure(figsize=(10, 10))\n",
    "plt.plot(np.arange(len(train_acc_hist)), train_acc_hist)"
   ]
  },
  {
   "cell_type": "code",
   "execution_count": null,
   "metadata": {},
   "outputs": [],
   "source": []
  },
  {
   "cell_type": "code",
   "execution_count": null,
   "metadata": {},
   "outputs": [],
   "source": [
    "\n"
   ]
  },
  {
   "cell_type": "code",
   "execution_count": null,
   "metadata": {},
   "outputs": [],
   "source": []
  }
 ],
 "metadata": {
  "kernelspec": {
   "display_name": "Python 3",
   "language": "python",
   "name": "python3"
  },
  "language_info": {
   "codemirror_mode": {
    "name": "ipython",
    "version": 3
   },
   "file_extension": ".py",
   "mimetype": "text/x-python",
   "name": "python",
   "nbconvert_exporter": "python",
   "pygments_lexer": "ipython3",
   "version": "3.7.3"
  }
 },
 "nbformat": 4,
 "nbformat_minor": 4
}
