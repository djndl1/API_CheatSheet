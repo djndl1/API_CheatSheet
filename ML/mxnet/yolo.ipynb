{
 "cells": [
  {
   "cell_type": "markdown",
   "metadata": {
    "colab_type": "text",
    "id": "sizVlPNFRxkA"
   },
   "source": [
    "# Intro\n",
    "\n",
    "This piece of work is inspired by a [youtube video lecture](https://www.youtube.com/watch?v=vaL1I2BD_xY) by Martin Gorner, a Google developer \n",
    "who put forth this idea of combining YOLO grid with SqueezeNet (instead of DarkNet - original stack for [YOLO](https://arxiv.org/pdf/1506.02640.pdf)). Original paper states - \" Our model struggles with small objects that appear in groups, such as flocks of birds.\", but it seems that YOLO can be useful for swarm type things as well."
   ]
  },
  {
   "cell_type": "code",
   "execution_count": 1,
   "metadata": {
    "colab": {
     "base_uri": "https://localhost:8080/",
     "height": 125
    },
    "colab_type": "code",
    "id": "teAJm1cyRxkG",
    "outputId": "6ae60525-285f-44d7-bf86-2262b6db63df"
   },
   "outputs": [],
   "source": [
    "import os\n",
    "import sys\n",
    "import numpy as np\n",
    "import mxnet as mx\n",
    "from mxnet import gluon, nd, autograd\n",
    "from mxnet.gluon import nn\n",
    "import random\n",
    "import math\n",
    "import warnings\n",
    "import pandas as pd\n",
    "import cv2\n",
    "import matplotlib.pyplot as plt\n",
    "import matplotlib.cm as cm\n",
    "import matplotlib.ticker as ticker\n",
    "\n",
    "from tqdm import tqdm\n",
    "from itertools import chain\n",
    "from skimage.io import imread, imshow, imread_collection, concatenate_images\n",
    "from skimage.transform import resize\n",
    "from skimage.morphology import label\n",
    "\n",
    "warnings.filterwarnings('ignore', category=UserWarning, module='skimage')\n",
    "seed = 19\n",
    "random.seed = seed\n",
    "np.random.seed = seed"
   ]
  },
  {
   "cell_type": "code",
   "execution_count": 2,
   "metadata": {
    "colab": {},
    "colab_type": "code",
    "id": "P9iKtQLxRxkw"
   },
   "outputs": [],
   "source": [
    "IMG_WIDTH = 96\n",
    "IMG_HEIGHT = 96\n",
    "IMG_CHANNELS = 3\n",
    "\n",
    "TRAIN_PATH = '/home/djn/Datasets/kaggle2018/stage1_train/'\n",
    "TEST_PATH = '/home/djn/Datasets/kaggle2018/stage1_test/'"
   ]
  },
  {
   "cell_type": "code",
   "execution_count": 3,
   "metadata": {
    "colab": {},
    "colab_type": "code",
    "id": "njfkv8anRxk9"
   },
   "outputs": [],
   "source": [
    "train_ids = next(os.walk(TRAIN_PATH))[1]\n",
    "test_ids = next(os.walk(TEST_PATH))[1]"
   ]
  },
  {
   "cell_type": "code",
   "execution_count": 4,
   "metadata": {
    "colab": {},
    "colab_type": "code",
    "id": "njfkv8anRxk9"
   },
   "outputs": [],
   "source": [
    "train_images = np.zeros((len(train_ids), IMG_HEIGHT, IMG_WIDTH, IMG_CHANNELS), dtype=np.uint8)\n",
    "test_images = np.zeros((len(test_ids), IMG_HEIGHT, IMG_WIDTH, IMG_CHANNELS), dtype=np.uint8)"
   ]
  },
  {
   "cell_type": "code",
   "execution_count": 5,
   "metadata": {
    "colab": {
     "base_uri": "https://localhost:8080/",
     "height": 105
    },
    "colab_type": "code",
    "id": "3-g146TIRxlJ",
    "outputId": "67cb3730-cbd2-4272-ad7f-24c6a24c72a4"
   },
   "outputs": [
    {
     "name": "stdout",
     "output_type": "stream",
     "text": [
      "resize train images... \n"
     ]
    },
    {
     "name": "stderr",
     "output_type": "stream",
     "text": [
      "100%|██████████| 670/670 [00:49<00:00, 13.66it/s]\n"
     ]
    }
   ],
   "source": [
    "# Resize train images.\n",
    "print('resize train images... ')\n",
    "sys.stdout.flush()\n",
    "\n",
    "for n, id_ in tqdm(enumerate(train_ids), total=len(train_ids)):\n",
    "    path = os.path.join(TRAIN_PATH, id_)\n",
    "    img = imread(os.path.join(path, 'images', id_ + '.png'))[:,:,:IMG_CHANNELS]\n",
    "    img = resize(img, (IMG_HEIGHT, IMG_WIDTH), mode='constant', preserve_range=True)\n",
    "    \n",
    "    train_images[n] = img"
   ]
  },
  {
   "cell_type": "code",
   "execution_count": 6,
   "metadata": {
    "colab": {
     "base_uri": "https://localhost:8080/",
     "height": 105
    },
    "colab_type": "code",
    "id": "3-g146TIRxlJ",
    "outputId": "67cb3730-cbd2-4272-ad7f-24c6a24c72a4"
   },
   "outputs": [
    {
     "name": "stdout",
     "output_type": "stream",
     "text": [
      "resize test images ... \n"
     ]
    },
    {
     "name": "stderr",
     "output_type": "stream",
     "text": [
      "100%|██████████| 65/65 [00:03<00:00, 19.51it/s]"
     ]
    },
    {
     "name": "stdout",
     "output_type": "stream",
     "text": [
      "Done!\n"
     ]
    },
    {
     "name": "stderr",
     "output_type": "stream",
     "text": [
      "\n"
     ]
    }
   ],
   "source": [
    "# Get and resize test images\n",
    "sizes_test = []\n",
    "print('resize test images ... ')\n",
    "sys.stdout.flush()\n",
    "\n",
    "for n, id_ in tqdm(enumerate(test_ids), total=len(test_ids)):\n",
    "    path = os.path.join(TEST_PATH, id_)\n",
    "    img = imread(os.path.join(path, 'images', id_ + '.png'))[:,:,:IMG_CHANNELS]\n",
    "    sizes_test.append([img.shape[0], img.shape[1]])\n",
    "    img = resize(img, (IMG_HEIGHT, IMG_WIDTH), mode='constant', preserve_range=True)\n",
    "    test_images[n] = img\n",
    "\n",
    "print('Done!')"
   ]
  },
  {
   "cell_type": "code",
   "execution_count": 7,
   "metadata": {
    "colab": {},
    "colab_type": "code",
    "id": "6w2ERtDGRxlX"
   },
   "outputs": [],
   "source": [
    "# Given mask image, training image id, mask id and rotation id (0 to 3),\n",
    "# we generate ground truth labels.\n",
    "def store_bounding_boxes(img, train_id, mask_id, rotby_90):\n",
    "    # Uses open cv to find object in mask images.\n",
    "    ret, thresh = cv2.threshold(img, 127, 255, cv2.THRESH_BINARY)\n",
    "    contours = cv2.findContours(thresh.astype(np.uint8), cv2.RETR_TREE, cv2.CHAIN_APPROX_SIMPLE)\n",
    "    cnt = contours[0]\n",
    "        \n",
    "    x, y, w, h = cv2.boundingRect(cnt)    \n",
    "    \n",
    "    x = x * (IMG_WIDTH/img.shape[1])\n",
    "    w = w * (IMG_WIDTH/img.shape[1])\n",
    "    y = y * (IMG_WIDTH/img.shape[0])\n",
    "    h = h * (IMG_WIDTH/img.shape[0])\n",
    "    \n",
    "    if(x > IMG_WIDTH-1):\n",
    "        x = IMG_WIDTH-1\n",
    "    if(y > IMG_HEIGHT-1):\n",
    "        y = IMG_HEIGHT-1\n",
    "    if(x+w > IMG_WIDTH-1):\n",
    "        w = IMG_WIDTH-1 - x\n",
    "    if(y+h > IMG_HEIGHT-1):\n",
    "        h = IMG_HEIGHT-1 - y\n",
    "        \n",
    "    bbdict = { \"train_id\": train_id, \"mask_id\": mask_id, \"rotby_90\": rotby_90, \"x\": x, \"y\": y, \"w\": w, \"h\": h}\n",
    "    return bbdict"
   ]
  },
  {
   "cell_type": "code",
   "execution_count": 8,
   "metadata": {
    "colab": {
     "base_uri": "https://localhost:8080/",
     "height": 1242
    },
    "colab_type": "code",
    "id": "0o_N-NuORxlh",
    "outputId": "26e42310-d461-44a2-89c6-1a90f7e90da2"
   },
   "outputs": [
    {
     "data": {
      "text/plain": [
       "<matplotlib.image.AxesImage at 0x7f9aaa57be50>"
      ]
     },
     "execution_count": 8,
     "metadata": {},
     "output_type": "execute_result"
    },
    {
     "data": {
      "image/png": "[encoded data removed]",
      "text/plain": [
       "<Figure size 432x288 with 1 Axes>"
      ]
     },
     "metadata": {
      "needs_background": "light"
     },
     "output_type": "display_data"
    },
    {
     "data": {
      "image/png": "[encoded data removed]",
      "text/plain": [
       "<Figure size 432x288 with 2 Axes>"
      ]
     },
     "metadata": {
      "needs_background": "light"
     },
     "output_type": "display_data"
    },
    {
     "data": {
      "image/png": "[encoded data removed]",
      "text/plain": [
       "<Figure size 432x288 with 2 Axes>"
      ]
     },
     "metadata": {
      "needs_background": "light"
     },
     "output_type": "display_data"
    }
   ],
   "source": [
    "img = imread(os.path.join(TRAIN_PATH, \"00071198d059ba7f5914a526d124d28e6d010c92466da21d4a04cd5413362552/images/00071198d059ba7f5914a526d124d28e6d010c92466da21d4a04cd5413362552.png\"))\n",
    "plt.figure()\n",
    "imshow(img)\n",
    "\n",
    "maskImg = imread(os.path.join(TRAIN_PATH, \"00071198d059ba7f5914a526d124d28e6d010c92466da21d4a04cd5413362552/masks/07a9bf1d7594af2763c86e93f05d22c4d5181353c6d3ab30a345b908ffe5aadc.png\"))\n",
    "plt.figure()\n",
    "imshow(maskImg)\n",
    "\n",
    "maskImg = imread(os.path.join(TRAIN_PATH, \"00071198d059ba7f5914a526d124d28e6d010c92466da21d4a04cd5413362552/masks/0e548d0af63ab451616f082eb56bde13eb71f73dfda92a03fbe88ad42ebb4881.png\"))\n",
    "plt.figure()\n",
    "imshow(maskImg)\n"
   ]
  },
  {
   "cell_type": "code",
   "execution_count": 9,
   "metadata": {
    "colab": {},
    "colab_type": "code",
    "id": "9VsNqTqgRxlz"
   },
   "outputs": [],
   "source": [
    "# Generates boundinx box (labels) ground truth.\n",
    "# The labels are based on mask files included in training dataset.\n",
    "# Mask files are images showing objects in training images.\n",
    "\n",
    "path_bboxes_csv = os.path.join(TRAIN_PATH, 'bboxes.csv')\n",
    "if not os.path.isfile(path_bboxes_csv):\n",
    "    bboxes = pd.DataFrame(columns=[\"train_id\", \"mask_id\", \"rotby_90\", \"x\", \"y\", \"w\", \"h\"])\n",
    "    row_count = 1\n",
    "    for n, id_ in tqdm(enumerate(train_ids), total=len(train_ids)):\n",
    "        path = os.path.join(TRAIN_PATH, id_)\n",
    "        for mask_id, mask_file in enumerate(os.listdir(os.path.join(path, 'masks'))):\n",
    "            mask_ = imread(os.path.join(path, 'masks', mask_file))\n",
    "            # To augment training dataset, we rotate mask data.\n",
    "            for r in range(4):\n",
    "                bboxes.loc[row_count] = store_bounding_boxes(np.rot90(mask_, r), id_, mask_id, r)\n",
    "                row_count += 1\n",
    "    bboxes.to_csv(path_bboxes_csv, index=False)\n",
    "else:\n",
    "    bboxes = pd.read_csv(path_bboxes_csv)"
   ]
  },
  {
   "cell_type": "code",
   "execution_count": 10,
   "metadata": {
    "colab": {},
    "colab_type": "code",
    "id": "TyWBmuw2RxmL"
   },
   "outputs": [],
   "source": [
    "# Define grid cell size.\n",
    "GRID_DIM = 8\n",
    "# The width/height of a grid in pixel.\n",
    "GRID_PIX = IMG_WIDTH//GRID_DIM\n",
    "BATCH_SIZE = 10"
   ]
  },
  {
   "cell_type": "code",
   "execution_count": 11,
   "metadata": {
    "colab": {
     "base_uri": "https://localhost:8080/",
     "height": 35
    },
    "colab_type": "code",
    "id": "ZsFW-ZaDRxme",
    "outputId": "83848285-f15a-43ef-c886-3395cab6ffe2"
   },
   "outputs": [
    {
     "name": "stderr",
     "output_type": "stream",
     "text": [
      "100%|██████████| 670/670 [00:01<00:00, 342.54it/s]\n"
     ]
    }
   ],
   "source": [
    "train_ids_df = pd.DataFrame(columns=[\"idx\", \"id_\"])\n",
    "cnt = 0\n",
    "for n, id_ in tqdm(enumerate(train_ids), total=len(train_ids)):\n",
    "    train_ids_df.loc[cnt] = { \"idx\": n, \"id_\": id_}\n",
    "    cnt += 1\n",
    "\n",
    "train_ids_df = train_ids_df.set_index(['idx'])"
   ]
  },
  {
   "cell_type": "code",
   "execution_count": 12,
   "metadata": {
    "colab": {},
    "colab_type": "code",
    "id": "OrWOzpdfRxmx"
   },
   "outputs": [],
   "source": [
    "# Grid-based coordinates of box (top-left corner).\n",
    "bboxes['grid_row'] = bboxes['y']//GRID_PIX\n",
    "bboxes['grid_column'] = bboxes['x']//GRID_PIX\n",
    "\n",
    "# The center coordinates of the grid this box is located at.\n",
    "bboxes['grid_center_x'] = bboxes['grid_column'] * GRID_PIX + GRID_PIX/2\n",
    "bboxes['grid_center_y'] = bboxes['grid_row'] * GRID_PIX + GRID_PIX/2\n",
    "\n",
    "# The center coordinates of box center.\n",
    "bboxes['box_center_x'] = bboxes.x + bboxes['w']/2\n",
    "bboxes['box_center_y'] = bboxes.y + bboxes['h']/2\n",
    "\n",
    "bboxes['new_x'] = (bboxes.box_center_x - bboxes.grid_center_x)/(IMG_WIDTH)\n",
    "bboxes['new_y'] = (bboxes.box_center_y - bboxes.grid_center_y)/(IMG_HEIGHT)\n",
    "\n",
    "bboxes['new_w'] = np.sqrt(bboxes.w/(IMG_WIDTH))\n",
    "bboxes['new_h'] = np.sqrt(bboxes.h/(IMG_WIDTH))\n",
    "\n",
    "# Here there is an object we know. So set object confidence to 1.\n",
    "bboxes['confidence'] = 1\n",
    "\n",
    "bboxes['box_area'] = bboxes.new_w*bboxes.new_h"
   ]
  },
  {
   "cell_type": "code",
   "execution_count": 13,
   "metadata": {
    "colab": {},
    "colab_type": "code",
    "id": "Cf_V68JQRxm8"
   },
   "outputs": [],
   "source": [
    "mask_count = 1\n",
    "#Set maximum bounding boxes allowed per grid cell\n",
    "MAX_BB_CNT = 2"
   ]
  },
  {
   "cell_type": "code",
   "execution_count": 14,
   "metadata": {
    "colab": {},
    "colab_type": "code",
    "id": "CzWX2RayRxnH"
   },
   "outputs": [],
   "source": [
    "# Returns the label for a given training image id and rotation id.\n",
    "def get_grid_info(tr_id, rotby_90):\n",
    "    df = bboxes.loc[(bboxes.train_id == tr_id) & (bboxes.rotby_90 == rotby_90), 'grid_row':'box_area']\n",
    "    df.drop(['grid_center_x', 'grid_center_y','box_center_x', 'box_center_y',], axis = 1, inplace=True)\n",
    "    df = df.sort_values(['grid_column', 'grid_row', 'box_area'], ascending=False)\n",
    "    #print(len(df))\n",
    "    global mask_count\n",
    "    mask_count += len(df)\n",
    "    # Initialize the label ground truth.\n",
    "    label_info = np.zeros(shape=(GRID_DIM, GRID_DIM, MAX_BB_CNT, 5),  dtype=np.float32) + 0.000001\n",
    "    \n",
    "    for ind, row in df.iterrows():\n",
    "        i = int(row[0])\n",
    "        j = int(row[1])\n",
    "        for b in range(MAX_BB_CNT):\n",
    "            if(label_info[i, j, b][4] != 1.0):\n",
    "                label_info[i, j, b] = np.array(row[2:7])\n",
    "                break\n",
    "    return label_info"
   ]
  },
  {
   "cell_type": "code",
   "execution_count": 15,
   "metadata": {
    "colab": {},
    "colab_type": "code",
    "id": "bqGE2x5pRxnQ"
   },
   "outputs": [],
   "source": [
    "# Returns label ground truth for input data.\n",
    "# The dimension is (batch size, grid width, grid height, predicted boxes per cell, variables per box).\n",
    "def get_labels(counts, rotations):\n",
    "    grid_info = np.zeros(shape=(BATCH_SIZE, GRID_DIM, GRID_DIM, MAX_BB_CNT, 5), dtype=np.float32)\n",
    "    for i, c in enumerate(counts):\n",
    "        tr_id = train_ids_df.loc[c, 'id_']\n",
    "        grid_info[i] = get_grid_info(tr_id, rotations[i])\n",
    "    grid_info = np.reshape(grid_info, newshape=[BATCH_SIZE, GRID_DIM, GRID_DIM, MAX_BB_CNT, 5])\n",
    "    return nd.array(grid_info)"
   ]
  },
  {
   "cell_type": "code",
   "execution_count": 16,
   "metadata": {
    "colab": {},
    "colab_type": "code",
    "id": "moDYHrAkRxnb"
   },
   "outputs": [],
   "source": [
    "def get_images(counts, rotations):\n",
    "    images = np.zeros(shape=(BATCH_SIZE, IMG_WIDTH, IMG_HEIGHT, IMG_CHANNELS), dtype=np.uint8)\n",
    "    for i, c in enumerate(counts):\n",
    "        images[i] = np.rot90(train_images[c], rotations[i])\n",
    "    images = np.transpose(images, (0, 3, 1, 2))\n",
    "    return nd.array(images)"
   ]
  },
  {
   "cell_type": "code",
   "execution_count": 17,
   "metadata": {
    "colab": {},
    "colab_type": "code",
    "id": "epSPByJWRxnu"
   },
   "outputs": [],
   "source": [
    "def next_batch():\n",
    "    rotations = []\n",
    "    rand_counts = []\n",
    "    for i in range(BATCH_SIZE):\n",
    "        rotations.append(random.randint(0, 3))\n",
    "        rand_counts.append(random.randint(0, 669))\n",
    "    return get_images(rand_counts, rotations), get_labels(rand_counts, rotations)"
   ]
  },
  {
   "cell_type": "code",
   "execution_count": 18,
   "metadata": {},
   "outputs": [],
   "source": [
    "class process_logits(nn.HybridBlock):\n",
    "    def __init__(self, **kwargs):\n",
    "        super().__init__(**kwargs)\n",
    "        \n",
    "    def hybrid_forward(self, F, x):\n",
    "        out = F.reshape(x, (-1, GRID_DIM, GRID_DIM, MAX_BB_CNT, 5))\n",
    "        res = F.stack(\n",
    "            F.tanh(out[:, :, :, :, 0]),\n",
    "            F.tanh(out[:, :, :, :, 1]),\n",
    "            F.sqrt(F.sigmoid(out[:, :, :, :, 2])),\n",
    "            F.sqrt(F.sigmoid(out[:, :, :, :, 3])),\n",
    "            F.sigmoid(out[:, :, :, :, 4]), axis=4\n",
    "        )\n",
    "        \n",
    "        return res"
   ]
  },
  {
   "cell_type": "code",
   "execution_count": 75,
   "metadata": {},
   "outputs": [],
   "source": [
    "class normalize_yolo_loss(gluon.loss.Loss):\n",
    "    def __init__(self, coords, noobj, weight=None, batch_axis=0):\n",
    "        super().__init__(None, batch_axis=0)\n",
    "        self.noobj = noobj\n",
    "        self.coords = coords\n",
    "        \n",
    "    def hybrid_forward(self, F, preds, labels):\n",
    "        obj_mask = labels[:, :, :, :, 4]\n",
    "        noobj_mask = 1.0 - labels[:, :, :, :, 4]\n",
    "        #print(obj_mask.shape, preds[:, :, :, :, 4].shape)\n",
    "        \n",
    "        delta = F.square(preds - labels)\n",
    "        confs = delta[:, :, :, :, 4]\n",
    "        #print(confs.shape)\n",
    "        obj_conf = F.square(1.0 - preds[:, :, :, :, 4]) * obj_mask\n",
    "        noobj_conf = F.square(0.0 - preds[:, :, :, :, 4]) * noobj_mask * self.noobj\n",
    "        \n",
    "        conf_loss = F.sum(obj_conf + noobj_conf, axis=[1, 2, 3])\n",
    "        \n",
    "        box_loss = F.sum(delta[:, :, :, :, :4] * F.expand_dims(obj_conf, axis=4),\n",
    "                         axis=[1, 2, 3, 4]) * self.coords\n",
    "        \n",
    "        loss = conf_loss + box_loss\n",
    "        \n",
    "        return F.mean(loss, axis=0)\n",
    "        "
   ]
  },
  {
   "cell_type": "code",
   "execution_count": 76,
   "metadata": {},
   "outputs": [],
   "source": [
    "class fire_module(nn.HybridBlock):\n",
    "    def __init__(self, squeeze_dim, expand_dim, **kwargs):\n",
    "        super(fire_module, self).__init__(**kwargs)\n",
    "        self.squeeze_dim = squeeze_dim\n",
    "        self.expand_dim = expand_dim\n",
    "        with self.name_scope():\n",
    "            self.sqconv = nn.Conv2D(squeeze_dim, kernel_size=1, strides=1)\n",
    "            self.bn1 = nn.BatchNorm()\n",
    "            self.lrelu1 =  nn.LeakyReLU(alpha=0.1)\n",
    "            \n",
    "            self.exconv1 = nn.Conv2D(expand_dim, kernel_size=3, strides=1, padding=1)\n",
    "            self.bn21 = nn.BatchNorm()\n",
    "            self.lrelu21 = nn.LeakyReLU(alpha=0.1)\n",
    "            \n",
    "            self.exconv2 = nn.Conv2D(expand_dim, kernel_size=1, strides=1)\n",
    "            self.bn22 = nn.BatchNorm()\n",
    "            self.lrelu22 = nn.LeakyReLU(alpha=0.1)\n",
    "            \n",
    "    def hybrid_forward(self, F, x):\n",
    "        squeezed = self.sqconv(x)\n",
    "        squeezed = self.bn1(squeezed)\n",
    "        squeezed = self.lrelu1(squeezed)\n",
    "        \n",
    "        expanded_1 = self.exconv1(squeezed)\n",
    "        expanded_1 = self.bn21(expanded_1)\n",
    "        expanded_1 = self.lrelu21(expanded_1)\n",
    "        \n",
    "        expanded_2 = self.exconv2(squeezed)\n",
    "        expanded_2 = self.bn22(expanded_2)\n",
    "        expanded_2 = self.lrelu22(expanded_2)\n",
    "        \n",
    "        return F.concat(expanded_1, expanded_2, dim=1)"
   ]
  },
  {
   "cell_type": "code",
   "execution_count": 77,
   "metadata": {},
   "outputs": [],
   "source": [
    "ctx = mx.gpu()"
   ]
  },
  {
   "cell_type": "code",
   "execution_count": 78,
   "metadata": {},
   "outputs": [],
   "source": [
    "net = nn.HybridSequential()\n",
    "with net.name_scope():\n",
    "    net.add(nn.Conv2D(32, 1),\n",
    "           nn.BatchNorm(),\n",
    "           nn.LeakyReLU(alpha=0.1))\n",
    "    net.add(nn.MaxPool2D())\n",
    "\n",
    "    net.add(fire_module(32, 64))\n",
    "    net.add(fire_module(32, 64))\n",
    "    net.add(fire_module(32, 64))\n",
    "\n",
    "    net.add(nn.MaxPool2D())\n",
    "\n",
    "    net.add(fire_module(64, 96))\n",
    "    net.add(fire_module(64, 96))\n",
    "    net.add(fire_module(64, 96))\n",
    "\n",
    "    net.add(nn.MaxPool2D())\n",
    "\n",
    "    net.add(fire_module(128, 160))\n",
    "    net.add(fire_module(128, 160))\n",
    "    net.add(fire_module(128, 160))\n",
    "\n",
    "    net.add(nn.MaxPool2D())\n",
    "\n",
    "    net.add(fire_module(256, 512))\n",
    "    net.add(fire_module(256, 512))\n",
    "    net.add(fire_module(256, 512))\n",
    "\n",
    "    net.add(nn.MaxPool2D())\n",
    "\n",
    "    net.add(fire_module(512, 1024))\n",
    "    net.add(fire_module(512, 1024))\n",
    "    net.add(fire_module(512, 1024))\n",
    "\n",
    "    net.add(nn.Conv2D(MAX_BB_CNT*5*8, 1),\n",
    "           nn.BatchNorm(),\n",
    "           nn.GlobalAvgPool2D())\n",
    "\n",
    "    net.add(nn.Dense(GRID_DIM * GRID_DIM * MAX_BB_CNT * 5))\n",
    "\n",
    "    net.add(process_logits())\n",
    "\n",
    "net.initialize(ctx=ctx)"
   ]
  },
  {
   "cell_type": "code",
   "execution_count": 79,
   "metadata": {},
   "outputs": [],
   "source": [
    "loss_fn = normalize_yolo_loss(coords=5.0, noobj=0.5)\n",
    "lr_sked = mx.lr_scheduler.FactorScheduler(step=500, factor=0.4)\n",
    "trainer = gluon.Trainer(net.collect_params(), 'adam', {'learning_rate': 0.0001,\n",
    "                                                      'lr_scheduler': lr_sked})"
   ]
  },
  {
   "cell_type": "code",
   "execution_count": 80,
   "metadata": {},
   "outputs": [],
   "source": [
    "start_training = True\n",
    "if not start_training:\n",
    "    test_image_id = 33\n",
    "    result = net(test_images[test_image_id])"
   ]
  },
  {
   "cell_type": "code",
   "execution_count": null,
   "metadata": {},
   "outputs": [
    {
     "name": "stdout",
     "output_type": "stream",
     "text": [
      "1 training loss(623): 36.59813690185547\n",
      "2 training loss(575): 31.932092647741335\n",
      "3 training loss(545): 30.742216651119403\n",
      "4 training loss(264): 30.049477003737543\n",
      "5 training loss(212): 29.327798667394013\n",
      "6 training loss(268): 28.566743466192616\n",
      "7 training loss(437): 28.101260269342763\n",
      "8 training loss(591): 24.89617347717285\n",
      "9 training loss(382): 24.422646097617573\n",
      "10 training loss(417): 24.367445001554728\n",
      "11 training loss(631): 24.344488099563954\n",
      "12 training loss(585): 24.272292900561098\n",
      "13 training loss(465): 24.03092837761976\n",
      "14 training loss(437): 23.889510321339433\n",
      "15 training loss(355): 22.956022262573242\n",
      "16 training loss(557): 22.840646271658414\n",
      "17 training loss(209): 22.993249086598258\n",
      "18 training loss(476): 23.003589921615447\n",
      "19 training loss(228): 23.10273875857232\n",
      "20 training loss(408): 23.02726188248503\n",
      "21 training loss(567): 23.03297888935108\n",
      "22 training loss(323): 24.460922241210938\n",
      "23 training loss(238): 22.756550703898515\n",
      "24 training loss(532): 22.69795796408582\n",
      "25 training loss(646): 22.723554947051493\n",
      "26 training loss(337): 22.835825475374065\n",
      "27 training loss(331): 22.753516404690618\n",
      "28 training loss(379): 22.740806338394343\n",
      "29 training loss(521): 18.77971076965332\n",
      "30 training loss(557): 22.45521590733292\n",
      "31 training loss(247): 22.572739330690297\n",
      "32 training loss(453): 22.618626388600497\n",
      "33 training loss(707): 22.6174967853803\n"
     ]
    }
   ],
   "source": [
    "if(start_training):\n",
    "    # initialize\n",
    "    batch_count = 0\n",
    "    display_count = 1\n",
    "    global mask_count\n",
    "\n",
    "    for ep in range(10):\n",
    "        loss_rec = nd.array([0.], ctx=ctx)\n",
    "        print(\"Current Learning rate \", trainer.learning_rate)\n",
    "    \n",
    "        for i in range(690):\n",
    "            batch_X, batch_Y = next_batch()\n",
    "            batch_X = batch_X.as_in_context(ctx)\n",
    "            batch_Y = batch_Y.as_in_context(ctx)\n",
    "\n",
    "            batch_count += 1\n",
    "\n",
    "            with autograd.record():\n",
    "                logits = net(batch_X)\n",
    "                loss = loss_fn(logits, batch_Y)\n",
    "\n",
    "            loss.backward()\n",
    "            trainer.step(batch_X.shape[0])\n",
    "            \n",
    "            loss_rec += loss\n",
    "          #  print(loss.shape)\n",
    "            if(i % 100 == 0):\n",
    "                print(str(display_count) + \" training loss(\" + str(mask_count) + \"): \" + str(loss_rec.asscalar() / (i+1)))\n",
    "                display_count +=1\n",
    "            mask_count = 0\n",
    "    print(\"Done!\")"
   ]
  },
  {
   "cell_type": "code",
   "execution_count": null,
   "metadata": {
    "colab": {},
    "colab_type": "code",
    "id": "epRQV67kRxrM"
   },
   "outputs": [],
   "source": [
    "if start_training:\n",
    "    test_image_id = 3\n",
    "    test_img = nd.array(test_images[test_image_id], ctx=ctx).transpose((2, 0, 1)).expand_dims(0)\n",
    "    result = net(test_img)"
   ]
  },
  {
   "cell_type": "code",
   "execution_count": null,
   "metadata": {
    "colab": {
     "base_uri": "https://localhost:8080/",
     "height": 35
    },
    "colab_type": "code",
    "id": "wPpa5L23RxrV",
    "outputId": "26d04855-87ee-4869-ccf0-15339059e82b"
   },
   "outputs": [],
   "source": [
    "boxes = result.asnumpy()\n",
    "print(boxes.shape)\n",
    "boxes = np.reshape(boxes, newshape=[GRID_DIM, GRID_DIM, MAX_BB_CNT, 5])\n",
    "bbs = []\n",
    "\n",
    "for i in range(GRID_DIM):\n",
    "    for j in range(GRID_DIM):\n",
    "        for b in range(MAX_BB_CNT):\n",
    "            if(boxes[i][j][b][4]> 0.75):\n",
    "                grid_center_x = ((j+0)*GRID_PIX + GRID_PIX/2)\n",
    "                grid_center_y = ((i+0)*GRID_PIX + GRID_PIX/2)\n",
    "                \n",
    "                new_box_center_x = boxes[i][j][b][0] * IMG_WIDTH + grid_center_x\n",
    "                new_box_center_y = boxes[i][j][b][1] * IMG_HEIGHT + grid_center_y\n",
    "\n",
    "                new_w = np.square(boxes[i][j][b][2]) * IMG_WIDTH\n",
    "                new_h = np.square(boxes[i][j][b][3]) * IMG_HEIGHT\n",
    "                \n",
    "                x1 = new_box_center_x - new_w/2\n",
    "                y1 = new_box_center_y - new_h/2\n",
    "\n",
    "                x2 = new_box_center_x + new_w/2\n",
    "                y2 = new_box_center_y + new_h/2\n",
    "\n",
    "                bbs.append((math.floor(x1), math.floor(y1), math.ceil(x2), math.ceil(y2)))"
   ]
  },
  {
   "cell_type": "code",
   "execution_count": null,
   "metadata": {
    "colab": {
     "base_uri": "https://localhost:8080/",
     "height": 273
    },
    "colab_type": "code",
    "id": "TO-kSmwgRxrZ",
    "outputId": "f8d1990d-9d8f-4c70-e8dc-5fe0b9cbde38"
   },
   "outputs": [],
   "source": [
    "img = test_images[test_image_id]\n",
    "f, axs = plt.subplots(1,2)\n",
    "axs[0].imshow(img)\n",
    "\n",
    "img_withbbox = np.copy(img)\n",
    "#imshow(img)\n",
    "for i, b in enumerate(bbs):\n",
    "    cv2.rectangle(img_withbbox,(b[0], b[1]),(b[2], b[3]),(0,255,0),2)\n",
    "\n",
    "axs[1].imshow(img_withbbox)"
   ]
  },
  {
   "cell_type": "code",
   "execution_count": null,
   "metadata": {
    "colab": {},
    "colab_type": "code",
    "id": "yIJqVXcURxrq"
   },
   "outputs": [],
   "source": []
  },
  {
   "cell_type": "code",
   "execution_count": null,
   "metadata": {
    "colab": {},
    "colab_type": "code",
    "id": "ei-AACR8Rxru"
   },
   "outputs": [],
   "source": []
  },
  {
   "cell_type": "code",
   "execution_count": null,
   "metadata": {
    "colab": {},
    "colab_type": "code",
    "id": "HsHMImMiRxr1"
   },
   "outputs": [],
   "source": []
  },
  {
   "cell_type": "code",
   "execution_count": null,
   "metadata": {
    "colab": {},
    "colab_type": "code",
    "id": "C0NExgT1Rxr7"
   },
   "outputs": [],
   "source": []
  }
 ],
 "metadata": {
  "accelerator": "GPU",
  "colab": {
   "collapsed_sections": [],
   "name": "yolo.ipynb",
   "provenance": []
  },
  "kernelspec": {
   "display_name": "Python 3",
   "language": "python",
   "name": "python3"
  },
  "language_info": {
   "codemirror_mode": {
    "name": "ipython",
    "version": 3
   },
   "file_extension": ".py",
   "mimetype": "text/x-python",
   "name": "python",
   "nbconvert_exporter": "python",
   "pygments_lexer": "ipython3",
   "version": "3.7.7"
  }
 },
 "nbformat": 4,
 "nbformat_minor": 4
}
